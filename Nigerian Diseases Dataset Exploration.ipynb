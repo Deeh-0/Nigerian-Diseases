{
 "cells": [
  {
   "cell_type": "markdown",
   "id": "8c5f2ed6",
   "metadata": {},
   "source": [
    "## Import necessary libraries"
   ]
  },
  {
   "cell_type": "code",
   "execution_count": 1,
   "id": "a499990d",
   "metadata": {},
   "outputs": [],
   "source": [
    "import numpy as np\n",
    "import pandas as pd\n",
    "import matplotlib.pyplot as plt\n",
    "import seaborn as sns"
   ]
  },
  {
   "cell_type": "markdown",
   "id": "e152a95f",
   "metadata": {},
   "source": [
    "## Import dataset "
   ]
  },
  {
   "cell_type": "code",
   "execution_count": 2,
   "id": "12d7cdc1",
   "metadata": {},
   "outputs": [],
   "source": [
    "df = pd.read_csv('1.csv')"
   ]
  },
  {
   "cell_type": "markdown",
   "id": "b9534d51",
   "metadata": {},
   "source": [
    "## Exploratory Data Analysis and Data Cleaning"
   ]
  },
  {
   "cell_type": "code",
   "execution_count": 3,
   "id": "24e3067f",
   "metadata": {},
   "outputs": [
    {
     "data": {
      "text/html": [
       "<div>\n",
       "<style scoped>\n",
       "    .dataframe tbody tr th:only-of-type {\n",
       "        vertical-align: middle;\n",
       "    }\n",
       "\n",
       "    .dataframe tbody tr th {\n",
       "        vertical-align: top;\n",
       "    }\n",
       "\n",
       "    .dataframe thead th {\n",
       "        text-align: right;\n",
       "    }\n",
       "</style>\n",
       "<table border=\"1\" class=\"dataframe\">\n",
       "  <thead>\n",
       "    <tr style=\"text-align: right;\">\n",
       "      <th></th>\n",
       "      <th>id</th>\n",
       "      <th>surname</th>\n",
       "      <th>firstname</th>\n",
       "      <th>middlename</th>\n",
       "      <th>gender</th>\n",
       "      <th>gender_male</th>\n",
       "      <th>gender_female</th>\n",
       "      <th>state</th>\n",
       "      <th>settlement</th>\n",
       "      <th>rural_settlement</th>\n",
       "      <th>...</th>\n",
       "      <th>NmA</th>\n",
       "      <th>NmC</th>\n",
       "      <th>NmW</th>\n",
       "      <th>health_status</th>\n",
       "      <th>alive</th>\n",
       "      <th>dead</th>\n",
       "      <th>report_outcome</th>\n",
       "      <th>unconfirmed</th>\n",
       "      <th>confirmed</th>\n",
       "      <th>null_serotype</th>\n",
       "    </tr>\n",
       "  </thead>\n",
       "  <tbody>\n",
       "    <tr>\n",
       "      <th>0</th>\n",
       "      <td>1</td>\n",
       "      <td>Solade</td>\n",
       "      <td>Grace</td>\n",
       "      <td>Solape</td>\n",
       "      <td>Female</td>\n",
       "      <td>0</td>\n",
       "      <td>1</td>\n",
       "      <td>Rivers</td>\n",
       "      <td>Rural</td>\n",
       "      <td>1</td>\n",
       "      <td>...</td>\n",
       "      <td>0</td>\n",
       "      <td>0</td>\n",
       "      <td>0</td>\n",
       "      <td>alive</td>\n",
       "      <td>1</td>\n",
       "      <td>0</td>\n",
       "      <td>confirmed</td>\n",
       "      <td>0</td>\n",
       "      <td>1</td>\n",
       "      <td>1</td>\n",
       "    </tr>\n",
       "    <tr>\n",
       "      <th>1</th>\n",
       "      <td>2</td>\n",
       "      <td>Eneche</td>\n",
       "      <td>Kure</td>\n",
       "      <td>Balogun</td>\n",
       "      <td>Male</td>\n",
       "      <td>1</td>\n",
       "      <td>0</td>\n",
       "      <td>Ebonyi</td>\n",
       "      <td>Rural</td>\n",
       "      <td>1</td>\n",
       "      <td>...</td>\n",
       "      <td>0</td>\n",
       "      <td>0</td>\n",
       "      <td>1</td>\n",
       "      <td>Alive</td>\n",
       "      <td>1</td>\n",
       "      <td>0</td>\n",
       "      <td>Confirmed</td>\n",
       "      <td>1</td>\n",
       "      <td>0</td>\n",
       "      <td>1</td>\n",
       "    </tr>\n",
       "    <tr>\n",
       "      <th>2</th>\n",
       "      <td>3</td>\n",
       "      <td>Sanusi</td>\n",
       "      <td>Adaugo</td>\n",
       "      <td>Katerine</td>\n",
       "      <td>Female</td>\n",
       "      <td>0</td>\n",
       "      <td>1</td>\n",
       "      <td>Ogun</td>\n",
       "      <td>Urban</td>\n",
       "      <td>0</td>\n",
       "      <td>...</td>\n",
       "      <td>0</td>\n",
       "      <td>0</td>\n",
       "      <td>1</td>\n",
       "      <td>Dead</td>\n",
       "      <td>0</td>\n",
       "      <td>1</td>\n",
       "      <td>Not Confirmed</td>\n",
       "      <td>1</td>\n",
       "      <td>0</td>\n",
       "      <td>1</td>\n",
       "    </tr>\n",
       "    <tr>\n",
       "      <th>3</th>\n",
       "      <td>4</td>\n",
       "      <td>Sowore</td>\n",
       "      <td>Mooslemat</td>\n",
       "      <td>Ifedayo</td>\n",
       "      <td>Female</td>\n",
       "      <td>0</td>\n",
       "      <td>1</td>\n",
       "      <td>Ondo</td>\n",
       "      <td>Rural</td>\n",
       "      <td>1</td>\n",
       "      <td>...</td>\n",
       "      <td>0</td>\n",
       "      <td>0</td>\n",
       "      <td>1</td>\n",
       "      <td>Alive</td>\n",
       "      <td>1</td>\n",
       "      <td>0</td>\n",
       "      <td>Not Confirmed</td>\n",
       "      <td>1</td>\n",
       "      <td>0</td>\n",
       "      <td>1</td>\n",
       "    </tr>\n",
       "    <tr>\n",
       "      <th>4</th>\n",
       "      <td>5</td>\n",
       "      <td>Abdusalam</td>\n",
       "      <td>Yusuf</td>\n",
       "      <td>Okafor</td>\n",
       "      <td>Male</td>\n",
       "      <td>1</td>\n",
       "      <td>0</td>\n",
       "      <td>Oyo</td>\n",
       "      <td>Urban</td>\n",
       "      <td>0</td>\n",
       "      <td>...</td>\n",
       "      <td>0</td>\n",
       "      <td>0</td>\n",
       "      <td>1</td>\n",
       "      <td>Alive</td>\n",
       "      <td>1</td>\n",
       "      <td>0</td>\n",
       "      <td>Confirmed</td>\n",
       "      <td>1</td>\n",
       "      <td>0</td>\n",
       "      <td>1</td>\n",
       "    </tr>\n",
       "  </tbody>\n",
       "</table>\n",
       "<p>5 rows × 41 columns</p>\n",
       "</div>"
      ],
      "text/plain": [
       "   id    surname  firstname middlename  gender  gender_male  gender_female  \\\n",
       "0   1     Solade      Grace     Solape  Female            0              1   \n",
       "1   2     Eneche       Kure    Balogun    Male            1              0   \n",
       "2   3     Sanusi     Adaugo   Katerine  Female            0              1   \n",
       "3   4     Sowore  Mooslemat    Ifedayo  Female            0              1   \n",
       "4   5  Abdusalam      Yusuf     Okafor    Male            1              0   \n",
       "\n",
       "    state settlement  rural_settlement  ...  NmA NmC  NmW  health_status  \\\n",
       "0  Rivers      Rural                 1  ...    0   0    0          alive   \n",
       "1  Ebonyi      Rural                 1  ...    0   0    1          Alive   \n",
       "2    Ogun      Urban                 0  ...    0   0    1           Dead   \n",
       "3    Ondo      Rural                 1  ...    0   0    1          Alive   \n",
       "4     Oyo      Urban                 0  ...    0   0    1          Alive   \n",
       "\n",
       "  alive dead  report_outcome  unconfirmed confirmed null_serotype  \n",
       "0     1    0       confirmed            0         1             1  \n",
       "1     1    0       Confirmed            1         0             1  \n",
       "2     0    1   Not Confirmed            1         0             1  \n",
       "3     1    0   Not Confirmed            1         0             1  \n",
       "4     1    0       Confirmed            1         0             1  \n",
       "\n",
       "[5 rows x 41 columns]"
      ]
     },
     "execution_count": 3,
     "metadata": {},
     "output_type": "execute_result"
    }
   ],
   "source": [
    "df.head()"
   ]
  },
  {
   "cell_type": "code",
   "execution_count": 4,
   "id": "9d48c40b",
   "metadata": {},
   "outputs": [
    {
     "data": {
      "text/plain": [
       "Index(['id', 'surname', 'firstname', 'middlename', 'gender', 'gender_male',\n",
       "       'gender_female', 'state', 'settlement', 'rural_settlement',\n",
       "       'urban_settlement', 'report_date', 'report_year', 'age', 'age_str',\n",
       "       'date_of_birth', 'child_group', 'adult_group', 'Age Classification',\n",
       "       'disease', 'cholera', 'diarrhoea', 'measles',\n",
       "       'viral_haemmorrhaphic_fever', 'meningitis', 'ebola', 'marburg_virus',\n",
       "       'yellow_fever', 'rubella_mars', 'malaria', 'serotype', 'NmA', 'NmC',\n",
       "       'NmW', 'health_status', 'alive', 'dead', 'report_outcome',\n",
       "       'unconfirmed', 'confirmed', 'null_serotype'],\n",
       "      dtype='object')"
      ]
     },
     "execution_count": 4,
     "metadata": {},
     "output_type": "execute_result"
    }
   ],
   "source": [
    "df.columns #"
   ]
  },
  {
   "cell_type": "code",
   "execution_count": 5,
   "id": "319ee45f",
   "metadata": {},
   "outputs": [
    {
     "name": "stdout",
     "output_type": "stream",
     "text": [
      "<class 'pandas.core.frame.DataFrame'>\n",
      "RangeIndex: 284484 entries, 0 to 284483\n",
      "Data columns (total 41 columns):\n",
      " #   Column                      Non-Null Count   Dtype \n",
      "---  ------                      --------------   ----- \n",
      " 0   id                          284484 non-null  int64 \n",
      " 1   surname                     284484 non-null  object\n",
      " 2   firstname                   284484 non-null  object\n",
      " 3   middlename                  284484 non-null  object\n",
      " 4   gender                      284484 non-null  object\n",
      " 5   gender_male                 284484 non-null  int64 \n",
      " 6   gender_female               284484 non-null  int64 \n",
      " 7   state                       284484 non-null  object\n",
      " 8   settlement                  284484 non-null  object\n",
      " 9   rural_settlement            284484 non-null  int64 \n",
      " 10  urban_settlement            284484 non-null  int64 \n",
      " 11  report_date                 284484 non-null  object\n",
      " 12  report_year                 284484 non-null  int64 \n",
      " 13  age                         284484 non-null  int64 \n",
      " 14  age_str                     284484 non-null  object\n",
      " 15  date_of_birth               284484 non-null  object\n",
      " 16  child_group                 284484 non-null  int64 \n",
      " 17  adult_group                 284484 non-null  int64 \n",
      " 18  Age Classification          284484 non-null  object\n",
      " 19  disease                     284484 non-null  object\n",
      " 20  cholera                     284484 non-null  int64 \n",
      " 21  diarrhoea                   284484 non-null  int64 \n",
      " 22  measles                     284484 non-null  int64 \n",
      " 23  viral_haemmorrhaphic_fever  284484 non-null  int64 \n",
      " 24  meningitis                  284484 non-null  int64 \n",
      " 25  ebola                       284484 non-null  int64 \n",
      " 26  marburg_virus               284484 non-null  int64 \n",
      " 27  yellow_fever                284484 non-null  int64 \n",
      " 28  rubella_mars                284484 non-null  int64 \n",
      " 29  malaria                     284484 non-null  int64 \n",
      " 30  serotype                    284484 non-null  object\n",
      " 31  NmA                         284484 non-null  int64 \n",
      " 32  NmC                         284484 non-null  int64 \n",
      " 33  NmW                         284484 non-null  int64 \n",
      " 34  health_status               284484 non-null  object\n",
      " 35  alive                       284484 non-null  int64 \n",
      " 36  dead                        284484 non-null  int64 \n",
      " 37  report_outcome              284484 non-null  object\n",
      " 38  unconfirmed                 284484 non-null  int64 \n",
      " 39  confirmed                   284484 non-null  int64 \n",
      " 40  null_serotype               284484 non-null  int64 \n",
      "dtypes: int64(27), object(14)\n",
      "memory usage: 89.0+ MB\n"
     ]
    }
   ],
   "source": [
    "df.info()"
   ]
  },
  {
   "cell_type": "markdown",
   "id": "c90ee04c",
   "metadata": {},
   "source": [
    "### change the name of Age Classification to follow the naming convention as seen in the dataset"
   ]
  },
  {
   "cell_type": "code",
   "execution_count": 6,
   "id": "b787b0d8",
   "metadata": {},
   "outputs": [],
   "source": [
    "df.rename(columns = {'Age Classification':'age_classification'}, inplace=True)"
   ]
  },
  {
   "cell_type": "markdown",
   "id": "464d4c84",
   "metadata": {},
   "source": [
    "### confirm the changes made."
   ]
  },
  {
   "cell_type": "code",
   "execution_count": 7,
   "id": "e4085d26",
   "metadata": {},
   "outputs": [
    {
     "data": {
      "text/plain": [
       "Index(['id', 'surname', 'firstname', 'middlename', 'gender', 'gender_male',\n",
       "       'gender_female', 'state', 'settlement', 'rural_settlement',\n",
       "       'urban_settlement', 'report_date', 'report_year', 'age', 'age_str',\n",
       "       'date_of_birth', 'child_group', 'adult_group', 'age_classification',\n",
       "       'disease', 'cholera', 'diarrhoea', 'measles',\n",
       "       'viral_haemmorrhaphic_fever', 'meningitis', 'ebola', 'marburg_virus',\n",
       "       'yellow_fever', 'rubella_mars', 'malaria', 'serotype', 'NmA', 'NmC',\n",
       "       'NmW', 'health_status', 'alive', 'dead', 'report_outcome',\n",
       "       'unconfirmed', 'confirmed', 'null_serotype'],\n",
       "      dtype='object')"
      ]
     },
     "execution_count": 7,
     "metadata": {},
     "output_type": "execute_result"
    }
   ],
   "source": [
    "df.columns"
   ]
  },
  {
   "cell_type": "markdown",
   "id": "ab20b2e4",
   "metadata": {},
   "source": [
    "### checking for incorrect values in the report date field"
   ]
  },
  {
   "cell_type": "code",
   "execution_count": 8,
   "id": "24151306",
   "metadata": {},
   "outputs": [
    {
     "data": {
      "text/html": [
       "<div>\n",
       "<style scoped>\n",
       "    .dataframe tbody tr th:only-of-type {\n",
       "        vertical-align: middle;\n",
       "    }\n",
       "\n",
       "    .dataframe tbody tr th {\n",
       "        vertical-align: top;\n",
       "    }\n",
       "\n",
       "    .dataframe thead th {\n",
       "        text-align: right;\n",
       "    }\n",
       "</style>\n",
       "<table border=\"1\" class=\"dataframe\">\n",
       "  <thead>\n",
       "    <tr style=\"text-align: right;\">\n",
       "      <th></th>\n",
       "      <th>id</th>\n",
       "      <th>surname</th>\n",
       "      <th>firstname</th>\n",
       "      <th>middlename</th>\n",
       "      <th>gender</th>\n",
       "      <th>gender_male</th>\n",
       "      <th>gender_female</th>\n",
       "      <th>state</th>\n",
       "      <th>settlement</th>\n",
       "      <th>rural_settlement</th>\n",
       "      <th>...</th>\n",
       "      <th>NmA</th>\n",
       "      <th>NmC</th>\n",
       "      <th>NmW</th>\n",
       "      <th>health_status</th>\n",
       "      <th>alive</th>\n",
       "      <th>dead</th>\n",
       "      <th>report_outcome</th>\n",
       "      <th>unconfirmed</th>\n",
       "      <th>confirmed</th>\n",
       "      <th>null_serotype</th>\n",
       "    </tr>\n",
       "  </thead>\n",
       "  <tbody>\n",
       "    <tr>\n",
       "      <th>23</th>\n",
       "      <td>24</td>\n",
       "      <td>Bayeero</td>\n",
       "      <td>Areoye</td>\n",
       "      <td>Adesina</td>\n",
       "      <td>Male</td>\n",
       "      <td>1</td>\n",
       "      <td>0</td>\n",
       "      <td>Ogun</td>\n",
       "      <td>Rural</td>\n",
       "      <td>1</td>\n",
       "      <td>...</td>\n",
       "      <td>0</td>\n",
       "      <td>0</td>\n",
       "      <td>1</td>\n",
       "      <td>Dead</td>\n",
       "      <td>0</td>\n",
       "      <td>1</td>\n",
       "      <td>Confirmed</td>\n",
       "      <td>0</td>\n",
       "      <td>1</td>\n",
       "      <td>1</td>\n",
       "    </tr>\n",
       "    <tr>\n",
       "      <th>209250</th>\n",
       "      <td>213189</td>\n",
       "      <td>Omotoni</td>\n",
       "      <td>Benedicta</td>\n",
       "      <td>Adetorera</td>\n",
       "      <td>Female</td>\n",
       "      <td>0</td>\n",
       "      <td>1</td>\n",
       "      <td>Kebbi</td>\n",
       "      <td>Urban</td>\n",
       "      <td>0</td>\n",
       "      <td>...</td>\n",
       "      <td>0</td>\n",
       "      <td>0</td>\n",
       "      <td>1</td>\n",
       "      <td>Alive</td>\n",
       "      <td>1</td>\n",
       "      <td>0</td>\n",
       "      <td>Not Confirmed</td>\n",
       "      <td>1</td>\n",
       "      <td>0</td>\n",
       "      <td>1</td>\n",
       "    </tr>\n",
       "    <tr>\n",
       "      <th>209256</th>\n",
       "      <td>213195</td>\n",
       "      <td>Omatsope</td>\n",
       "      <td>Danjuma</td>\n",
       "      <td>Okeke</td>\n",
       "      <td>Male</td>\n",
       "      <td>1</td>\n",
       "      <td>0</td>\n",
       "      <td>Rivers</td>\n",
       "      <td>Rural</td>\n",
       "      <td>1</td>\n",
       "      <td>...</td>\n",
       "      <td>0</td>\n",
       "      <td>0</td>\n",
       "      <td>1</td>\n",
       "      <td>Dead</td>\n",
       "      <td>0</td>\n",
       "      <td>1</td>\n",
       "      <td>Confirmed</td>\n",
       "      <td>1</td>\n",
       "      <td>0</td>\n",
       "      <td>1</td>\n",
       "    </tr>\n",
       "    <tr>\n",
       "      <th>209307</th>\n",
       "      <td>213246</td>\n",
       "      <td>Omotsope</td>\n",
       "      <td>Benedict</td>\n",
       "      <td>Akindele</td>\n",
       "      <td>Male</td>\n",
       "      <td>1</td>\n",
       "      <td>0</td>\n",
       "      <td>Zamfara</td>\n",
       "      <td>Urban</td>\n",
       "      <td>0</td>\n",
       "      <td>...</td>\n",
       "      <td>0</td>\n",
       "      <td>0</td>\n",
       "      <td>1</td>\n",
       "      <td>Alive</td>\n",
       "      <td>1</td>\n",
       "      <td>0</td>\n",
       "      <td>Confirmed</td>\n",
       "      <td>1</td>\n",
       "      <td>0</td>\n",
       "      <td>1</td>\n",
       "    </tr>\n",
       "    <tr>\n",
       "      <th>209388</th>\n",
       "      <td>213327</td>\n",
       "      <td>Asibi</td>\n",
       "      <td>Paulina</td>\n",
       "      <td>Kehinde</td>\n",
       "      <td>Female</td>\n",
       "      <td>0</td>\n",
       "      <td>1</td>\n",
       "      <td>Lagos</td>\n",
       "      <td>Urban</td>\n",
       "      <td>0</td>\n",
       "      <td>...</td>\n",
       "      <td>0</td>\n",
       "      <td>0</td>\n",
       "      <td>1</td>\n",
       "      <td>Dead</td>\n",
       "      <td>0</td>\n",
       "      <td>1</td>\n",
       "      <td>Confirmed</td>\n",
       "      <td>1</td>\n",
       "      <td>0</td>\n",
       "      <td>1</td>\n",
       "    </tr>\n",
       "    <tr>\n",
       "      <th>...</th>\n",
       "      <td>...</td>\n",
       "      <td>...</td>\n",
       "      <td>...</td>\n",
       "      <td>...</td>\n",
       "      <td>...</td>\n",
       "      <td>...</td>\n",
       "      <td>...</td>\n",
       "      <td>...</td>\n",
       "      <td>...</td>\n",
       "      <td>...</td>\n",
       "      <td>...</td>\n",
       "      <td>...</td>\n",
       "      <td>...</td>\n",
       "      <td>...</td>\n",
       "      <td>...</td>\n",
       "      <td>...</td>\n",
       "      <td>...</td>\n",
       "      <td>...</td>\n",
       "      <td>...</td>\n",
       "      <td>...</td>\n",
       "      <td>...</td>\n",
       "    </tr>\n",
       "    <tr>\n",
       "      <th>284122</th>\n",
       "      <td>288061</td>\n",
       "      <td>Ladoke</td>\n",
       "      <td>Alimat</td>\n",
       "      <td>Osahon</td>\n",
       "      <td>Female</td>\n",
       "      <td>0</td>\n",
       "      <td>1</td>\n",
       "      <td>Nasarawa</td>\n",
       "      <td>Urban</td>\n",
       "      <td>0</td>\n",
       "      <td>...</td>\n",
       "      <td>0</td>\n",
       "      <td>1</td>\n",
       "      <td>0</td>\n",
       "      <td>Alive</td>\n",
       "      <td>1</td>\n",
       "      <td>0</td>\n",
       "      <td>Confirmed</td>\n",
       "      <td>1</td>\n",
       "      <td>0</td>\n",
       "      <td>0</td>\n",
       "    </tr>\n",
       "    <tr>\n",
       "      <th>284138</th>\n",
       "      <td>288077</td>\n",
       "      <td>Okerewke</td>\n",
       "      <td>Danjuma</td>\n",
       "      <td>Ojukwu</td>\n",
       "      <td>Male</td>\n",
       "      <td>1</td>\n",
       "      <td>0</td>\n",
       "      <td>Taraba</td>\n",
       "      <td>Rural</td>\n",
       "      <td>1</td>\n",
       "      <td>...</td>\n",
       "      <td>0</td>\n",
       "      <td>0</td>\n",
       "      <td>1</td>\n",
       "      <td>Alive</td>\n",
       "      <td>1</td>\n",
       "      <td>0</td>\n",
       "      <td>Not Confirmed</td>\n",
       "      <td>1</td>\n",
       "      <td>0</td>\n",
       "      <td>1</td>\n",
       "    </tr>\n",
       "    <tr>\n",
       "      <th>284150</th>\n",
       "      <td>288089</td>\n",
       "      <td>Jimoh</td>\n",
       "      <td>Simbi</td>\n",
       "      <td>Grace</td>\n",
       "      <td>Female</td>\n",
       "      <td>0</td>\n",
       "      <td>1</td>\n",
       "      <td>Kwara</td>\n",
       "      <td>Urban</td>\n",
       "      <td>0</td>\n",
       "      <td>...</td>\n",
       "      <td>0</td>\n",
       "      <td>0</td>\n",
       "      <td>1</td>\n",
       "      <td>Alive</td>\n",
       "      <td>1</td>\n",
       "      <td>0</td>\n",
       "      <td>Not Confirmed</td>\n",
       "      <td>1</td>\n",
       "      <td>0</td>\n",
       "      <td>1</td>\n",
       "    </tr>\n",
       "    <tr>\n",
       "      <th>284330</th>\n",
       "      <td>288269</td>\n",
       "      <td>Sunday</td>\n",
       "      <td>Adaugo</td>\n",
       "      <td>Kehinde</td>\n",
       "      <td>Female</td>\n",
       "      <td>0</td>\n",
       "      <td>1</td>\n",
       "      <td>Katsina</td>\n",
       "      <td>Urban</td>\n",
       "      <td>0</td>\n",
       "      <td>...</td>\n",
       "      <td>0</td>\n",
       "      <td>0</td>\n",
       "      <td>1</td>\n",
       "      <td>Dead</td>\n",
       "      <td>0</td>\n",
       "      <td>1</td>\n",
       "      <td>Confirmed</td>\n",
       "      <td>0</td>\n",
       "      <td>1</td>\n",
       "      <td>1</td>\n",
       "    </tr>\n",
       "    <tr>\n",
       "      <th>284459</th>\n",
       "      <td>288398</td>\n",
       "      <td>Folawiyo</td>\n",
       "      <td>Adijah</td>\n",
       "      <td>Folasade</td>\n",
       "      <td>Female</td>\n",
       "      <td>0</td>\n",
       "      <td>1</td>\n",
       "      <td>Kwara</td>\n",
       "      <td>Rural</td>\n",
       "      <td>1</td>\n",
       "      <td>...</td>\n",
       "      <td>0</td>\n",
       "      <td>0</td>\n",
       "      <td>1</td>\n",
       "      <td>Dead</td>\n",
       "      <td>0</td>\n",
       "      <td>1</td>\n",
       "      <td>Confirmed</td>\n",
       "      <td>0</td>\n",
       "      <td>1</td>\n",
       "      <td>1</td>\n",
       "    </tr>\n",
       "  </tbody>\n",
       "</table>\n",
       "<p>1372 rows × 41 columns</p>\n",
       "</div>"
      ],
      "text/plain": [
       "            id   surname  firstname middlename  gender  gender_male  \\\n",
       "23          24   Bayeero     Areoye    Adesina    Male            1   \n",
       "209250  213189   Omotoni  Benedicta  Adetorera  Female            0   \n",
       "209256  213195  Omatsope    Danjuma      Okeke    Male            1   \n",
       "209307  213246  Omotsope   Benedict   Akindele    Male            1   \n",
       "209388  213327     Asibi    Paulina    Kehinde  Female            0   \n",
       "...        ...       ...        ...        ...     ...          ...   \n",
       "284122  288061    Ladoke     Alimat     Osahon  Female            0   \n",
       "284138  288077  Okerewke    Danjuma     Ojukwu    Male            1   \n",
       "284150  288089     Jimoh      Simbi      Grace  Female            0   \n",
       "284330  288269    Sunday     Adaugo    Kehinde  Female            0   \n",
       "284459  288398  Folawiyo     Adijah   Folasade  Female            0   \n",
       "\n",
       "        gender_female     state settlement  rural_settlement  ...  NmA NmC  \\\n",
       "23                  0      Ogun      Rural                 1  ...    0   0   \n",
       "209250              1     Kebbi      Urban                 0  ...    0   0   \n",
       "209256              0    Rivers      Rural                 1  ...    0   0   \n",
       "209307              0   Zamfara      Urban                 0  ...    0   0   \n",
       "209388              1     Lagos      Urban                 0  ...    0   0   \n",
       "...               ...       ...        ...               ...  ...  ...  ..   \n",
       "284122              1  Nasarawa      Urban                 0  ...    0   1   \n",
       "284138              0    Taraba      Rural                 1  ...    0   0   \n",
       "284150              1     Kwara      Urban                 0  ...    0   0   \n",
       "284330              1   Katsina      Urban                 0  ...    0   0   \n",
       "284459              1     Kwara      Rural                 1  ...    0   0   \n",
       "\n",
       "        NmW  health_status alive dead  report_outcome  unconfirmed confirmed  \\\n",
       "23        1           Dead     0    1       Confirmed            0         1   \n",
       "209250    1          Alive     1    0   Not Confirmed            1         0   \n",
       "209256    1           Dead     0    1       Confirmed            1         0   \n",
       "209307    1          Alive     1    0       Confirmed            1         0   \n",
       "209388    1           Dead     0    1       Confirmed            1         0   \n",
       "...     ...            ...   ...  ...             ...          ...       ...   \n",
       "284122    0          Alive     1    0       Confirmed            1         0   \n",
       "284138    1          Alive     1    0   Not Confirmed            1         0   \n",
       "284150    1          Alive     1    0   Not Confirmed            1         0   \n",
       "284330    1           Dead     0    1       Confirmed            0         1   \n",
       "284459    1           Dead     0    1       Confirmed            0         1   \n",
       "\n",
       "       null_serotype  \n",
       "23                 1  \n",
       "209250             1  \n",
       "209256             1  \n",
       "209307             1  \n",
       "209388             1  \n",
       "...              ...  \n",
       "284122             0  \n",
       "284138             1  \n",
       "284150             1  \n",
       "284330             1  \n",
       "284459             1  \n",
       "\n",
       "[1372 rows x 41 columns]"
      ]
     },
     "execution_count": 8,
     "metadata": {},
     "output_type": "execute_result"
    }
   ],
   "source": [
    "df[df['report_date'] == '0000-00-00']"
   ]
  },
  {
   "cell_type": "markdown",
   "id": "fe0cea75",
   "metadata": {},
   "source": [
    "#### drop invalid data points, which totalled 1372 values, this number does not affect the general outlook of the dataset"
   ]
  },
  {
   "cell_type": "code",
   "execution_count": 9,
   "id": "d5a9cdae",
   "metadata": {},
   "outputs": [],
   "source": [
    "df = df[df['report_date'] != '0000-00-00'] "
   ]
  },
  {
   "cell_type": "markdown",
   "id": "8e780098",
   "metadata": {},
   "source": [
    "#### confirm the changes, we made to the dataset"
   ]
  },
  {
   "cell_type": "code",
   "execution_count": 10,
   "id": "92799c0d",
   "metadata": {},
   "outputs": [
    {
     "data": {
      "text/html": [
       "<div>\n",
       "<style scoped>\n",
       "    .dataframe tbody tr th:only-of-type {\n",
       "        vertical-align: middle;\n",
       "    }\n",
       "\n",
       "    .dataframe tbody tr th {\n",
       "        vertical-align: top;\n",
       "    }\n",
       "\n",
       "    .dataframe thead th {\n",
       "        text-align: right;\n",
       "    }\n",
       "</style>\n",
       "<table border=\"1\" class=\"dataframe\">\n",
       "  <thead>\n",
       "    <tr style=\"text-align: right;\">\n",
       "      <th></th>\n",
       "      <th>id</th>\n",
       "      <th>surname</th>\n",
       "      <th>firstname</th>\n",
       "      <th>middlename</th>\n",
       "      <th>gender</th>\n",
       "      <th>gender_male</th>\n",
       "      <th>gender_female</th>\n",
       "      <th>state</th>\n",
       "      <th>settlement</th>\n",
       "      <th>rural_settlement</th>\n",
       "      <th>...</th>\n",
       "      <th>NmA</th>\n",
       "      <th>NmC</th>\n",
       "      <th>NmW</th>\n",
       "      <th>health_status</th>\n",
       "      <th>alive</th>\n",
       "      <th>dead</th>\n",
       "      <th>report_outcome</th>\n",
       "      <th>unconfirmed</th>\n",
       "      <th>confirmed</th>\n",
       "      <th>null_serotype</th>\n",
       "    </tr>\n",
       "  </thead>\n",
       "  <tbody>\n",
       "  </tbody>\n",
       "</table>\n",
       "<p>0 rows × 41 columns</p>\n",
       "</div>"
      ],
      "text/plain": [
       "Empty DataFrame\n",
       "Columns: [id, surname, firstname, middlename, gender, gender_male, gender_female, state, settlement, rural_settlement, urban_settlement, report_date, report_year, age, age_str, date_of_birth, child_group, adult_group, age_classification, disease, cholera, diarrhoea, measles, viral_haemmorrhaphic_fever, meningitis, ebola, marburg_virus, yellow_fever, rubella_mars, malaria, serotype, NmA, NmC, NmW, health_status, alive, dead, report_outcome, unconfirmed, confirmed, null_serotype]\n",
       "Index: []\n",
       "\n",
       "[0 rows x 41 columns]"
      ]
     },
     "execution_count": 10,
     "metadata": {},
     "output_type": "execute_result"
    }
   ],
   "source": [
    "df[df['report_date'] == '0000-00-00']"
   ]
  },
  {
   "cell_type": "markdown",
   "id": "2c12fef0",
   "metadata": {},
   "source": [
    "#### as earlier stated, the values dropped does not affect the general outlook on the dataset "
   ]
  },
  {
   "cell_type": "code",
   "execution_count": 11,
   "id": "eef7f29b",
   "metadata": {
    "scrolled": true
   },
   "outputs": [
    {
     "data": {
      "text/plain": [
       "id                            283112\n",
       "surname                       283112\n",
       "firstname                     283112\n",
       "middlename                    283112\n",
       "gender                        283112\n",
       "gender_male                   283112\n",
       "gender_female                 283112\n",
       "state                         283112\n",
       "settlement                    283112\n",
       "rural_settlement              283112\n",
       "urban_settlement              283112\n",
       "report_date                   283112\n",
       "report_year                   283112\n",
       "age                           283112\n",
       "age_str                       283112\n",
       "date_of_birth                 283112\n",
       "child_group                   283112\n",
       "adult_group                   283112\n",
       "age_classification            283112\n",
       "disease                       283112\n",
       "cholera                       283112\n",
       "diarrhoea                     283112\n",
       "measles                       283112\n",
       "viral_haemmorrhaphic_fever    283112\n",
       "meningitis                    283112\n",
       "ebola                         283112\n",
       "marburg_virus                 283112\n",
       "yellow_fever                  283112\n",
       "rubella_mars                  283112\n",
       "malaria                       283112\n",
       "serotype                      283112\n",
       "NmA                           283112\n",
       "NmC                           283112\n",
       "NmW                           283112\n",
       "health_status                 283112\n",
       "alive                         283112\n",
       "dead                          283112\n",
       "report_outcome                283112\n",
       "unconfirmed                   283112\n",
       "confirmed                     283112\n",
       "null_serotype                 283112\n",
       "dtype: int64"
      ]
     },
     "execution_count": 11,
     "metadata": {},
     "output_type": "execute_result"
    }
   ],
   "source": [
    "df.count()"
   ]
  },
  {
   "cell_type": "markdown",
   "id": "0ef157a1",
   "metadata": {},
   "source": [
    "### check for invalid data in the date of birth column"
   ]
  },
  {
   "cell_type": "code",
   "execution_count": 12,
   "id": "a705e1a3",
   "metadata": {
    "scrolled": true
   },
   "outputs": [
    {
     "data": {
      "text/plain": [
       "50        0000-00-00\n",
       "115       0000-00-00\n",
       "140       0000-00-00\n",
       "178       0000-00-00\n",
       "376       0000-00-00\n",
       "             ...    \n",
       "284259    0000-00-00\n",
       "284272    0000-00-00\n",
       "284282    0000-00-00\n",
       "284298    0000-00-00\n",
       "284323    0000-00-00\n",
       "Name: date_of_birth, Length: 5032, dtype: object"
      ]
     },
     "execution_count": 12,
     "metadata": {},
     "output_type": "execute_result"
    }
   ],
   "source": [
    "df[df['date_of_birth']=='0000-00-00']['date_of_birth']"
   ]
  },
  {
   "cell_type": "markdown",
   "id": "6dc7f304",
   "metadata": {},
   "source": [
    "### we now drop these data points, which totalled 5032, this does not have an effect on the dataset"
   ]
  },
  {
   "cell_type": "code",
   "execution_count": 13,
   "id": "7c9dcdda",
   "metadata": {},
   "outputs": [],
   "source": [
    "df = df[df['date_of_birth'] != '0000-00-00'] "
   ]
  },
  {
   "cell_type": "markdown",
   "id": "696c281e",
   "metadata": {},
   "source": [
    "#### confirm the changes we made to the dataset"
   ]
  },
  {
   "cell_type": "code",
   "execution_count": 14,
   "id": "403eb83f",
   "metadata": {},
   "outputs": [
    {
     "data": {
      "text/html": [
       "<div>\n",
       "<style scoped>\n",
       "    .dataframe tbody tr th:only-of-type {\n",
       "        vertical-align: middle;\n",
       "    }\n",
       "\n",
       "    .dataframe tbody tr th {\n",
       "        vertical-align: top;\n",
       "    }\n",
       "\n",
       "    .dataframe thead th {\n",
       "        text-align: right;\n",
       "    }\n",
       "</style>\n",
       "<table border=\"1\" class=\"dataframe\">\n",
       "  <thead>\n",
       "    <tr style=\"text-align: right;\">\n",
       "      <th></th>\n",
       "      <th>id</th>\n",
       "      <th>surname</th>\n",
       "      <th>firstname</th>\n",
       "      <th>middlename</th>\n",
       "      <th>gender</th>\n",
       "      <th>gender_male</th>\n",
       "      <th>gender_female</th>\n",
       "      <th>state</th>\n",
       "      <th>settlement</th>\n",
       "      <th>rural_settlement</th>\n",
       "      <th>...</th>\n",
       "      <th>NmA</th>\n",
       "      <th>NmC</th>\n",
       "      <th>NmW</th>\n",
       "      <th>health_status</th>\n",
       "      <th>alive</th>\n",
       "      <th>dead</th>\n",
       "      <th>report_outcome</th>\n",
       "      <th>unconfirmed</th>\n",
       "      <th>confirmed</th>\n",
       "      <th>null_serotype</th>\n",
       "    </tr>\n",
       "  </thead>\n",
       "  <tbody>\n",
       "  </tbody>\n",
       "</table>\n",
       "<p>0 rows × 41 columns</p>\n",
       "</div>"
      ],
      "text/plain": [
       "Empty DataFrame\n",
       "Columns: [id, surname, firstname, middlename, gender, gender_male, gender_female, state, settlement, rural_settlement, urban_settlement, report_date, report_year, age, age_str, date_of_birth, child_group, adult_group, age_classification, disease, cholera, diarrhoea, measles, viral_haemmorrhaphic_fever, meningitis, ebola, marburg_virus, yellow_fever, rubella_mars, malaria, serotype, NmA, NmC, NmW, health_status, alive, dead, report_outcome, unconfirmed, confirmed, null_serotype]\n",
       "Index: []\n",
       "\n",
       "[0 rows x 41 columns]"
      ]
     },
     "execution_count": 14,
     "metadata": {},
     "output_type": "execute_result"
    }
   ],
   "source": [
    "df[df['date_of_birth']=='0000-00-00']"
   ]
  },
  {
   "cell_type": "markdown",
   "id": "af9c22e4",
   "metadata": {},
   "source": [
    "### to count the number of entries left in the dataset"
   ]
  },
  {
   "cell_type": "code",
   "execution_count": 15,
   "id": "ca4308f8",
   "metadata": {},
   "outputs": [
    {
     "data": {
      "text/plain": [
       "id                            278080\n",
       "surname                       278080\n",
       "firstname                     278080\n",
       "middlename                    278080\n",
       "gender                        278080\n",
       "gender_male                   278080\n",
       "gender_female                 278080\n",
       "state                         278080\n",
       "settlement                    278080\n",
       "rural_settlement              278080\n",
       "urban_settlement              278080\n",
       "report_date                   278080\n",
       "report_year                   278080\n",
       "age                           278080\n",
       "age_str                       278080\n",
       "date_of_birth                 278080\n",
       "child_group                   278080\n",
       "adult_group                   278080\n",
       "age_classification            278080\n",
       "disease                       278080\n",
       "cholera                       278080\n",
       "diarrhoea                     278080\n",
       "measles                       278080\n",
       "viral_haemmorrhaphic_fever    278080\n",
       "meningitis                    278080\n",
       "ebola                         278080\n",
       "marburg_virus                 278080\n",
       "yellow_fever                  278080\n",
       "rubella_mars                  278080\n",
       "malaria                       278080\n",
       "serotype                      278080\n",
       "NmA                           278080\n",
       "NmC                           278080\n",
       "NmW                           278080\n",
       "health_status                 278080\n",
       "alive                         278080\n",
       "dead                          278080\n",
       "report_outcome                278080\n",
       "unconfirmed                   278080\n",
       "confirmed                     278080\n",
       "null_serotype                 278080\n",
       "dtype: int64"
      ]
     },
     "execution_count": 15,
     "metadata": {},
     "output_type": "execute_result"
    }
   ],
   "source": [
    "df.count()"
   ]
  },
  {
   "cell_type": "markdown",
   "id": "f9693551",
   "metadata": {},
   "source": [
    "### Now, we drop fields/ columns, we consider irrelevant to this analysis, or that would lead to redundance"
   ]
  },
  {
   "cell_type": "code",
   "execution_count": 16,
   "id": "f4ed2a63",
   "metadata": {},
   "outputs": [],
   "source": [
    "df.drop(['gender_male','gender_female','rural_settlement','urban_settlement','child_group', 'adult_group','age_str','cholera', 'diarrhoea', 'measles','viral_haemmorrhaphic_fever', 'meningitis', 'ebola', 'marburg_virus', 'yellow_fever', 'rubella_mars', 'malaria', 'NmA', 'NmC', 'NmW', 'alive', 'dead', 'unconfirmed', 'confirmed', 'null_serotype'], axis=1, inplace=True)"
   ]
  },
  {
   "cell_type": "markdown",
   "id": "5b8101d8",
   "metadata": {},
   "source": [
    "### changing the index of the dataset"
   ]
  },
  {
   "cell_type": "code",
   "execution_count": 17,
   "id": "2b3d2903",
   "metadata": {},
   "outputs": [],
   "source": [
    "df.reset_index(inplace=True)"
   ]
  },
  {
   "cell_type": "code",
   "execution_count": 18,
   "id": "b09ae75e",
   "metadata": {},
   "outputs": [],
   "source": [
    "df.drop('id', axis=1, inplace=True)"
   ]
  },
  {
   "cell_type": "code",
   "execution_count": 19,
   "id": "9a6512a6",
   "metadata": {},
   "outputs": [
    {
     "data": {
      "text/html": [
       "<div>\n",
       "<style scoped>\n",
       "    .dataframe tbody tr th:only-of-type {\n",
       "        vertical-align: middle;\n",
       "    }\n",
       "\n",
       "    .dataframe tbody tr th {\n",
       "        vertical-align: top;\n",
       "    }\n",
       "\n",
       "    .dataframe thead th {\n",
       "        text-align: right;\n",
       "    }\n",
       "</style>\n",
       "<table border=\"1\" class=\"dataframe\">\n",
       "  <thead>\n",
       "    <tr style=\"text-align: right;\">\n",
       "      <th></th>\n",
       "      <th>index</th>\n",
       "      <th>surname</th>\n",
       "      <th>firstname</th>\n",
       "      <th>middlename</th>\n",
       "      <th>gender</th>\n",
       "      <th>state</th>\n",
       "      <th>settlement</th>\n",
       "      <th>report_date</th>\n",
       "      <th>report_year</th>\n",
       "      <th>age</th>\n",
       "      <th>date_of_birth</th>\n",
       "      <th>age_classification</th>\n",
       "      <th>disease</th>\n",
       "      <th>serotype</th>\n",
       "      <th>health_status</th>\n",
       "      <th>report_outcome</th>\n",
       "    </tr>\n",
       "  </thead>\n",
       "  <tbody>\n",
       "    <tr>\n",
       "      <th>0</th>\n",
       "      <td>0</td>\n",
       "      <td>Solade</td>\n",
       "      <td>Grace</td>\n",
       "      <td>Solape</td>\n",
       "      <td>Female</td>\n",
       "      <td>Rivers</td>\n",
       "      <td>Rural</td>\n",
       "      <td>15/05/2018</td>\n",
       "      <td>2018</td>\n",
       "      <td>32</td>\n",
       "      <td>17/01/1986</td>\n",
       "      <td>Adult</td>\n",
       "      <td>Cholera</td>\n",
       "      <td>null serotype</td>\n",
       "      <td>alive</td>\n",
       "      <td>confirmed</td>\n",
       "    </tr>\n",
       "    <tr>\n",
       "      <th>1</th>\n",
       "      <td>1</td>\n",
       "      <td>Eneche</td>\n",
       "      <td>Kure</td>\n",
       "      <td>Balogun</td>\n",
       "      <td>Male</td>\n",
       "      <td>Ebonyi</td>\n",
       "      <td>Rural</td>\n",
       "      <td>28/02/2017</td>\n",
       "      <td>2017</td>\n",
       "      <td>32</td>\n",
       "      <td>01/09/1985</td>\n",
       "      <td>Adult</td>\n",
       "      <td>Marburg Virus</td>\n",
       "      <td>Null</td>\n",
       "      <td>Alive</td>\n",
       "      <td>Confirmed</td>\n",
       "    </tr>\n",
       "    <tr>\n",
       "      <th>2</th>\n",
       "      <td>2</td>\n",
       "      <td>Sanusi</td>\n",
       "      <td>Adaugo</td>\n",
       "      <td>Katerine</td>\n",
       "      <td>Female</td>\n",
       "      <td>Ogun</td>\n",
       "      <td>Urban</td>\n",
       "      <td>02/03/2012</td>\n",
       "      <td>2012</td>\n",
       "      <td>24</td>\n",
       "      <td>01/05/1988</td>\n",
       "      <td>Adult</td>\n",
       "      <td>Marburg Virus</td>\n",
       "      <td>Null</td>\n",
       "      <td>Dead</td>\n",
       "      <td>Not Confirmed</td>\n",
       "    </tr>\n",
       "    <tr>\n",
       "      <th>3</th>\n",
       "      <td>3</td>\n",
       "      <td>Sowore</td>\n",
       "      <td>Mooslemat</td>\n",
       "      <td>Ifedayo</td>\n",
       "      <td>Female</td>\n",
       "      <td>Ondo</td>\n",
       "      <td>Rural</td>\n",
       "      <td>21/05/2010</td>\n",
       "      <td>2010</td>\n",
       "      <td>63</td>\n",
       "      <td>24/05/1947</td>\n",
       "      <td>Adult</td>\n",
       "      <td>Measles</td>\n",
       "      <td>Null</td>\n",
       "      <td>Alive</td>\n",
       "      <td>Not Confirmed</td>\n",
       "    </tr>\n",
       "    <tr>\n",
       "      <th>4</th>\n",
       "      <td>4</td>\n",
       "      <td>Abdusalam</td>\n",
       "      <td>Yusuf</td>\n",
       "      <td>Okafor</td>\n",
       "      <td>Male</td>\n",
       "      <td>Oyo</td>\n",
       "      <td>Urban</td>\n",
       "      <td>28/08/2017</td>\n",
       "      <td>2017</td>\n",
       "      <td>9</td>\n",
       "      <td>07/01/2008</td>\n",
       "      <td>Child</td>\n",
       "      <td>Rubella Mars</td>\n",
       "      <td>Null</td>\n",
       "      <td>Alive</td>\n",
       "      <td>Confirmed</td>\n",
       "    </tr>\n",
       "    <tr>\n",
       "      <th>...</th>\n",
       "      <td>...</td>\n",
       "      <td>...</td>\n",
       "      <td>...</td>\n",
       "      <td>...</td>\n",
       "      <td>...</td>\n",
       "      <td>...</td>\n",
       "      <td>...</td>\n",
       "      <td>...</td>\n",
       "      <td>...</td>\n",
       "      <td>...</td>\n",
       "      <td>...</td>\n",
       "      <td>...</td>\n",
       "      <td>...</td>\n",
       "      <td>...</td>\n",
       "      <td>...</td>\n",
       "      <td>...</td>\n",
       "    </tr>\n",
       "    <tr>\n",
       "      <th>278075</th>\n",
       "      <td>284479</td>\n",
       "      <td>Mukthar</td>\n",
       "      <td>Alimat</td>\n",
       "      <td>Ajibewa</td>\n",
       "      <td>Female</td>\n",
       "      <td>Cross River</td>\n",
       "      <td>Rural</td>\n",
       "      <td>24/08/2012</td>\n",
       "      <td>2012</td>\n",
       "      <td>67</td>\n",
       "      <td>10/07/1945</td>\n",
       "      <td>Adult</td>\n",
       "      <td>Ebola</td>\n",
       "      <td>Null</td>\n",
       "      <td>Dead</td>\n",
       "      <td>Confirmed</td>\n",
       "    </tr>\n",
       "    <tr>\n",
       "      <th>278076</th>\n",
       "      <td>284480</td>\n",
       "      <td>Akenzua</td>\n",
       "      <td>Deborah</td>\n",
       "      <td>Rofeeqat</td>\n",
       "      <td>Female</td>\n",
       "      <td>Kwara</td>\n",
       "      <td>Urban</td>\n",
       "      <td>19/01/2009</td>\n",
       "      <td>2009</td>\n",
       "      <td>64</td>\n",
       "      <td>27/01/1945</td>\n",
       "      <td>Adult</td>\n",
       "      <td>Ebola</td>\n",
       "      <td>Null</td>\n",
       "      <td>Dead</td>\n",
       "      <td>Confirmed</td>\n",
       "    </tr>\n",
       "    <tr>\n",
       "      <th>278077</th>\n",
       "      <td>284481</td>\n",
       "      <td>Isa</td>\n",
       "      <td>Deborah</td>\n",
       "      <td>Tofunmi</td>\n",
       "      <td>Female</td>\n",
       "      <td>Katsina</td>\n",
       "      <td>Rural</td>\n",
       "      <td>10/06/2010</td>\n",
       "      <td>2010</td>\n",
       "      <td>33</td>\n",
       "      <td>03/10/1977</td>\n",
       "      <td>Adult</td>\n",
       "      <td>Malaria</td>\n",
       "      <td>Null</td>\n",
       "      <td>Alive</td>\n",
       "      <td>Confirmed</td>\n",
       "    </tr>\n",
       "    <tr>\n",
       "      <th>278078</th>\n",
       "      <td>284482</td>\n",
       "      <td>Uba</td>\n",
       "      <td>Ismail</td>\n",
       "      <td>Akpabio</td>\n",
       "      <td>Male</td>\n",
       "      <td>Jigawa</td>\n",
       "      <td>Rural</td>\n",
       "      <td>11/01/2016</td>\n",
       "      <td>2016</td>\n",
       "      <td>18</td>\n",
       "      <td>07/05/1998</td>\n",
       "      <td>Adult</td>\n",
       "      <td>Malaria</td>\n",
       "      <td>Null</td>\n",
       "      <td>Dead</td>\n",
       "      <td>Not Confirmed</td>\n",
       "    </tr>\n",
       "    <tr>\n",
       "      <th>278079</th>\n",
       "      <td>284483</td>\n",
       "      <td>Alao</td>\n",
       "      <td>Paulina</td>\n",
       "      <td>Sade</td>\n",
       "      <td>Female</td>\n",
       "      <td>Kogi</td>\n",
       "      <td>Urban</td>\n",
       "      <td>18/08/2013</td>\n",
       "      <td>2013</td>\n",
       "      <td>7</td>\n",
       "      <td>07/01/2013</td>\n",
       "      <td>Child</td>\n",
       "      <td>Yellow Fever</td>\n",
       "      <td>Null</td>\n",
       "      <td>Alive</td>\n",
       "      <td>Confirmed</td>\n",
       "    </tr>\n",
       "  </tbody>\n",
       "</table>\n",
       "<p>278080 rows × 16 columns</p>\n",
       "</div>"
      ],
      "text/plain": [
       "         index    surname  firstname middlename  gender        state  \\\n",
       "0            0     Solade      Grace     Solape  Female       Rivers   \n",
       "1            1     Eneche       Kure    Balogun    Male       Ebonyi   \n",
       "2            2     Sanusi     Adaugo   Katerine  Female         Ogun   \n",
       "3            3     Sowore  Mooslemat    Ifedayo  Female         Ondo   \n",
       "4            4  Abdusalam      Yusuf     Okafor    Male          Oyo   \n",
       "...        ...        ...        ...        ...     ...          ...   \n",
       "278075  284479    Mukthar     Alimat    Ajibewa  Female  Cross River   \n",
       "278076  284480    Akenzua    Deborah   Rofeeqat  Female        Kwara   \n",
       "278077  284481        Isa    Deborah    Tofunmi  Female      Katsina   \n",
       "278078  284482        Uba     Ismail    Akpabio    Male       Jigawa   \n",
       "278079  284483       Alao    Paulina       Sade  Female         Kogi   \n",
       "\n",
       "       settlement report_date  report_year  age date_of_birth  \\\n",
       "0           Rural  15/05/2018         2018   32    17/01/1986   \n",
       "1           Rural  28/02/2017         2017   32    01/09/1985   \n",
       "2           Urban  02/03/2012         2012   24    01/05/1988   \n",
       "3           Rural  21/05/2010         2010   63    24/05/1947   \n",
       "4           Urban  28/08/2017         2017    9    07/01/2008   \n",
       "...           ...         ...          ...  ...           ...   \n",
       "278075      Rural  24/08/2012         2012   67    10/07/1945   \n",
       "278076      Urban  19/01/2009         2009   64    27/01/1945   \n",
       "278077      Rural  10/06/2010         2010   33    03/10/1977   \n",
       "278078      Rural  11/01/2016         2016   18    07/05/1998   \n",
       "278079      Urban  18/08/2013         2013    7    07/01/2013   \n",
       "\n",
       "       age_classification        disease       serotype health_status  \\\n",
       "0                   Adult        Cholera  null serotype         alive   \n",
       "1                   Adult  Marburg Virus           Null         Alive   \n",
       "2                   Adult  Marburg Virus           Null          Dead   \n",
       "3                   Adult        Measles           Null         Alive   \n",
       "4                   Child   Rubella Mars           Null         Alive   \n",
       "...                   ...            ...            ...           ...   \n",
       "278075              Adult          Ebola           Null          Dead   \n",
       "278076              Adult          Ebola           Null          Dead   \n",
       "278077              Adult        Malaria           Null         Alive   \n",
       "278078              Adult        Malaria           Null          Dead   \n",
       "278079              Child   Yellow Fever           Null         Alive   \n",
       "\n",
       "       report_outcome  \n",
       "0           confirmed  \n",
       "1           Confirmed  \n",
       "2       Not Confirmed  \n",
       "3       Not Confirmed  \n",
       "4           Confirmed  \n",
       "...               ...  \n",
       "278075      Confirmed  \n",
       "278076      Confirmed  \n",
       "278077      Confirmed  \n",
       "278078  Not Confirmed  \n",
       "278079      Confirmed  \n",
       "\n",
       "[278080 rows x 16 columns]"
      ]
     },
     "execution_count": 19,
     "metadata": {},
     "output_type": "execute_result"
    }
   ],
   "source": [
    "df"
   ]
  },
  {
   "cell_type": "markdown",
   "id": "7bea2493",
   "metadata": {},
   "source": [
    "### We check for unique values in the serotype field/ column"
   ]
  },
  {
   "cell_type": "code",
   "execution_count": 20,
   "id": "d6379a07",
   "metadata": {},
   "outputs": [
    {
     "data": {
      "text/plain": [
       "array(['null serotype', 'Null', 'Neisseria meningitidis group A (NmA)',\n",
       "       'Neisseria meningitidis group W (NmW)',\n",
       "       'Neisseria meningitidis group C (NmC)'], dtype=object)"
      ]
     },
     "execution_count": 20,
     "metadata": {},
     "output_type": "execute_result"
    }
   ],
   "source": [
    "df['serotype'].unique()"
   ]
  },
  {
   "cell_type": "markdown",
   "id": "5f82658f",
   "metadata": {},
   "source": [
    "#### We replace null serotype to Null, to give uniformity."
   ]
  },
  {
   "cell_type": "code",
   "execution_count": 21,
   "id": "a54794e5",
   "metadata": {},
   "outputs": [],
   "source": [
    "df['serotype'] = df['serotype'].replace(['null serotype'],'Null')"
   ]
  },
  {
   "cell_type": "markdown",
   "id": "4a871157",
   "metadata": {},
   "source": [
    "#### Check to confirm the changes we implemented."
   ]
  },
  {
   "cell_type": "code",
   "execution_count": 22,
   "id": "83a1fccb",
   "metadata": {},
   "outputs": [
    {
     "data": {
      "text/plain": [
       "array(['Null', 'Neisseria meningitidis group A (NmA)',\n",
       "       'Neisseria meningitidis group W (NmW)',\n",
       "       'Neisseria meningitidis group C (NmC)'], dtype=object)"
      ]
     },
     "execution_count": 22,
     "metadata": {},
     "output_type": "execute_result"
    }
   ],
   "source": [
    "df['serotype'].unique()"
   ]
  },
  {
   "cell_type": "markdown",
   "id": "e619c639",
   "metadata": {},
   "source": [
    "### We check for unique values in report outcome"
   ]
  },
  {
   "cell_type": "code",
   "execution_count": 23,
   "id": "5570e786",
   "metadata": {},
   "outputs": [
    {
     "data": {
      "text/plain": [
       "array(['confirmed', 'Confirmed', 'Not Confirmed'], dtype=object)"
      ]
     },
     "execution_count": 23,
     "metadata": {},
     "output_type": "execute_result"
    }
   ],
   "source": [
    "df['report_outcome'].unique()"
   ]
  },
  {
   "cell_type": "markdown",
   "id": "4454dc85",
   "metadata": {},
   "source": [
    "#### Now, we replace confirmed to Confirmed, for uniformity"
   ]
  },
  {
   "cell_type": "code",
   "execution_count": 24,
   "id": "97fba059",
   "metadata": {},
   "outputs": [],
   "source": [
    "df['report_outcome'] = df['report_outcome'].replace(['confirmed'],'Confirmed')"
   ]
  },
  {
   "cell_type": "markdown",
   "id": "13fa4d27",
   "metadata": {},
   "source": [
    "#### Check to confirm the changes we made"
   ]
  },
  {
   "cell_type": "code",
   "execution_count": 25,
   "id": "ea325b65",
   "metadata": {},
   "outputs": [
    {
     "data": {
      "text/plain": [
       "array(['Confirmed', 'Not Confirmed'], dtype=object)"
      ]
     },
     "execution_count": 25,
     "metadata": {},
     "output_type": "execute_result"
    }
   ],
   "source": [
    "df['report_outcome'].unique()"
   ]
  },
  {
   "cell_type": "markdown",
   "id": "b0125d4d",
   "metadata": {},
   "source": [
    "### We check the unique values in health status"
   ]
  },
  {
   "cell_type": "code",
   "execution_count": 26,
   "id": "cf668fdb",
   "metadata": {},
   "outputs": [
    {
     "data": {
      "text/plain": [
       "array(['alive', 'Alive', 'Dead'], dtype=object)"
      ]
     },
     "execution_count": 26,
     "metadata": {},
     "output_type": "execute_result"
    }
   ],
   "source": [
    "df['health_status'].unique()"
   ]
  },
  {
   "cell_type": "markdown",
   "id": "6a210e95",
   "metadata": {},
   "source": [
    "#### We replace alive to Alive, for uniformity"
   ]
  },
  {
   "cell_type": "code",
   "execution_count": 27,
   "id": "9ecb1540",
   "metadata": {},
   "outputs": [],
   "source": [
    "df['health_status'] = df['health_status'].replace(['alive'],'Alive')"
   ]
  },
  {
   "cell_type": "markdown",
   "id": "38db8131",
   "metadata": {},
   "source": [
    "#### Check to confirm changes"
   ]
  },
  {
   "cell_type": "code",
   "execution_count": 28,
   "id": "de146d01",
   "metadata": {},
   "outputs": [
    {
     "data": {
      "text/plain": [
       "array(['Alive', 'Dead'], dtype=object)"
      ]
     },
     "execution_count": 28,
     "metadata": {},
     "output_type": "execute_result"
    }
   ],
   "source": [
    "df['health_status'].unique()"
   ]
  },
  {
   "cell_type": "markdown",
   "id": "86037395",
   "metadata": {},
   "source": [
    "### Convert to necessary data types"
   ]
  },
  {
   "cell_type": "code",
   "execution_count": 29,
   "id": "f675341b",
   "metadata": {},
   "outputs": [],
   "source": [
    "df['report_date'] = pd.to_datetime(df['report_date'])"
   ]
  },
  {
   "cell_type": "code",
   "execution_count": 30,
   "id": "0c6086a8",
   "metadata": {},
   "outputs": [],
   "source": [
    "df['date_of_birth'] = pd.to_datetime(df['date_of_birth'])"
   ]
  },
  {
   "cell_type": "markdown",
   "id": "e69ad234",
   "metadata": {},
   "source": [
    "#### Check to confirm changes made"
   ]
  },
  {
   "cell_type": "code",
   "execution_count": 31,
   "id": "d15cac72",
   "metadata": {},
   "outputs": [
    {
     "data": {
      "text/plain": [
       "index                          int64\n",
       "surname                       object\n",
       "firstname                     object\n",
       "middlename                    object\n",
       "gender                        object\n",
       "state                         object\n",
       "settlement                    object\n",
       "report_date           datetime64[ns]\n",
       "report_year                    int64\n",
       "age                            int64\n",
       "date_of_birth         datetime64[ns]\n",
       "age_classification            object\n",
       "disease                       object\n",
       "serotype                      object\n",
       "health_status                 object\n",
       "report_outcome                object\n",
       "dtype: object"
      ]
     },
     "execution_count": 31,
     "metadata": {},
     "output_type": "execute_result"
    }
   ],
   "source": [
    "df.dtypes"
   ]
  },
  {
   "cell_type": "markdown",
   "id": "2c918b2c",
   "metadata": {},
   "source": [
    "### Checking to see the number of confirmed and not comfirmed reports"
   ]
  },
  {
   "cell_type": "code",
   "execution_count": 32,
   "id": "9beb2230",
   "metadata": {},
   "outputs": [
    {
     "data": {
      "text/html": [
       "<div>\n",
       "<style scoped>\n",
       "    .dataframe tbody tr th:only-of-type {\n",
       "        vertical-align: middle;\n",
       "    }\n",
       "\n",
       "    .dataframe tbody tr th {\n",
       "        vertical-align: top;\n",
       "    }\n",
       "\n",
       "    .dataframe thead th {\n",
       "        text-align: right;\n",
       "    }\n",
       "</style>\n",
       "<table border=\"1\" class=\"dataframe\">\n",
       "  <thead>\n",
       "    <tr style=\"text-align: right;\">\n",
       "      <th></th>\n",
       "      <th>index</th>\n",
       "      <th>surname</th>\n",
       "      <th>firstname</th>\n",
       "      <th>middlename</th>\n",
       "      <th>gender</th>\n",
       "      <th>state</th>\n",
       "      <th>settlement</th>\n",
       "      <th>report_date</th>\n",
       "      <th>report_year</th>\n",
       "      <th>age</th>\n",
       "      <th>date_of_birth</th>\n",
       "      <th>age_classification</th>\n",
       "      <th>disease</th>\n",
       "      <th>serotype</th>\n",
       "      <th>health_status</th>\n",
       "      <th>report_outcome</th>\n",
       "    </tr>\n",
       "  </thead>\n",
       "  <tbody>\n",
       "    <tr>\n",
       "      <th>0</th>\n",
       "      <td>0</td>\n",
       "      <td>Solade</td>\n",
       "      <td>Grace</td>\n",
       "      <td>Solape</td>\n",
       "      <td>Female</td>\n",
       "      <td>Rivers</td>\n",
       "      <td>Rural</td>\n",
       "      <td>2018-05-15</td>\n",
       "      <td>2018</td>\n",
       "      <td>32</td>\n",
       "      <td>1986-01-17</td>\n",
       "      <td>Adult</td>\n",
       "      <td>Cholera</td>\n",
       "      <td>Null</td>\n",
       "      <td>Alive</td>\n",
       "      <td>Confirmed</td>\n",
       "    </tr>\n",
       "    <tr>\n",
       "      <th>1</th>\n",
       "      <td>1</td>\n",
       "      <td>Eneche</td>\n",
       "      <td>Kure</td>\n",
       "      <td>Balogun</td>\n",
       "      <td>Male</td>\n",
       "      <td>Ebonyi</td>\n",
       "      <td>Rural</td>\n",
       "      <td>2017-02-28</td>\n",
       "      <td>2017</td>\n",
       "      <td>32</td>\n",
       "      <td>1985-01-09</td>\n",
       "      <td>Adult</td>\n",
       "      <td>Marburg Virus</td>\n",
       "      <td>Null</td>\n",
       "      <td>Alive</td>\n",
       "      <td>Confirmed</td>\n",
       "    </tr>\n",
       "    <tr>\n",
       "      <th>4</th>\n",
       "      <td>4</td>\n",
       "      <td>Abdusalam</td>\n",
       "      <td>Yusuf</td>\n",
       "      <td>Okafor</td>\n",
       "      <td>Male</td>\n",
       "      <td>Oyo</td>\n",
       "      <td>Urban</td>\n",
       "      <td>2017-08-28</td>\n",
       "      <td>2017</td>\n",
       "      <td>9</td>\n",
       "      <td>2008-07-01</td>\n",
       "      <td>Child</td>\n",
       "      <td>Rubella Mars</td>\n",
       "      <td>Null</td>\n",
       "      <td>Alive</td>\n",
       "      <td>Confirmed</td>\n",
       "    </tr>\n",
       "    <tr>\n",
       "      <th>5</th>\n",
       "      <td>5</td>\n",
       "      <td>Yakubu</td>\n",
       "      <td>Janet</td>\n",
       "      <td>Chioma</td>\n",
       "      <td>Female</td>\n",
       "      <td>Kaduna</td>\n",
       "      <td>Rural</td>\n",
       "      <td>2012-06-27</td>\n",
       "      <td>2012</td>\n",
       "      <td>44</td>\n",
       "      <td>1968-06-06</td>\n",
       "      <td>Adult</td>\n",
       "      <td>Ebola</td>\n",
       "      <td>Null</td>\n",
       "      <td>Alive</td>\n",
       "      <td>Confirmed</td>\n",
       "    </tr>\n",
       "    <tr>\n",
       "      <th>6</th>\n",
       "      <td>6</td>\n",
       "      <td>Razak</td>\n",
       "      <td>Adaugo</td>\n",
       "      <td>Adaobi</td>\n",
       "      <td>Female</td>\n",
       "      <td>Taraba</td>\n",
       "      <td>Rural</td>\n",
       "      <td>2010-01-04</td>\n",
       "      <td>2010</td>\n",
       "      <td>61</td>\n",
       "      <td>1949-07-19</td>\n",
       "      <td>Adult</td>\n",
       "      <td>Yellow Fever</td>\n",
       "      <td>Null</td>\n",
       "      <td>Alive</td>\n",
       "      <td>Confirmed</td>\n",
       "    </tr>\n",
       "    <tr>\n",
       "      <th>...</th>\n",
       "      <td>...</td>\n",
       "      <td>...</td>\n",
       "      <td>...</td>\n",
       "      <td>...</td>\n",
       "      <td>...</td>\n",
       "      <td>...</td>\n",
       "      <td>...</td>\n",
       "      <td>...</td>\n",
       "      <td>...</td>\n",
       "      <td>...</td>\n",
       "      <td>...</td>\n",
       "      <td>...</td>\n",
       "      <td>...</td>\n",
       "      <td>...</td>\n",
       "      <td>...</td>\n",
       "      <td>...</td>\n",
       "    </tr>\n",
       "    <tr>\n",
       "      <th>278074</th>\n",
       "      <td>284478</td>\n",
       "      <td>Adedayo</td>\n",
       "      <td>Judah</td>\n",
       "      <td>Adeoye</td>\n",
       "      <td>Male</td>\n",
       "      <td>Yobe</td>\n",
       "      <td>Urban</td>\n",
       "      <td>2010-04-11</td>\n",
       "      <td>2010</td>\n",
       "      <td>22</td>\n",
       "      <td>2014-11-26</td>\n",
       "      <td>Adult</td>\n",
       "      <td>Marburg Virus</td>\n",
       "      <td>Null</td>\n",
       "      <td>Alive</td>\n",
       "      <td>Confirmed</td>\n",
       "    </tr>\n",
       "    <tr>\n",
       "      <th>278075</th>\n",
       "      <td>284479</td>\n",
       "      <td>Mukthar</td>\n",
       "      <td>Alimat</td>\n",
       "      <td>Ajibewa</td>\n",
       "      <td>Female</td>\n",
       "      <td>Cross River</td>\n",
       "      <td>Rural</td>\n",
       "      <td>2012-08-24</td>\n",
       "      <td>2012</td>\n",
       "      <td>67</td>\n",
       "      <td>1945-10-07</td>\n",
       "      <td>Adult</td>\n",
       "      <td>Ebola</td>\n",
       "      <td>Null</td>\n",
       "      <td>Dead</td>\n",
       "      <td>Confirmed</td>\n",
       "    </tr>\n",
       "    <tr>\n",
       "      <th>278076</th>\n",
       "      <td>284480</td>\n",
       "      <td>Akenzua</td>\n",
       "      <td>Deborah</td>\n",
       "      <td>Rofeeqat</td>\n",
       "      <td>Female</td>\n",
       "      <td>Kwara</td>\n",
       "      <td>Urban</td>\n",
       "      <td>2009-01-19</td>\n",
       "      <td>2009</td>\n",
       "      <td>64</td>\n",
       "      <td>1945-01-27</td>\n",
       "      <td>Adult</td>\n",
       "      <td>Ebola</td>\n",
       "      <td>Null</td>\n",
       "      <td>Dead</td>\n",
       "      <td>Confirmed</td>\n",
       "    </tr>\n",
       "    <tr>\n",
       "      <th>278077</th>\n",
       "      <td>284481</td>\n",
       "      <td>Isa</td>\n",
       "      <td>Deborah</td>\n",
       "      <td>Tofunmi</td>\n",
       "      <td>Female</td>\n",
       "      <td>Katsina</td>\n",
       "      <td>Rural</td>\n",
       "      <td>2010-10-06</td>\n",
       "      <td>2010</td>\n",
       "      <td>33</td>\n",
       "      <td>1977-03-10</td>\n",
       "      <td>Adult</td>\n",
       "      <td>Malaria</td>\n",
       "      <td>Null</td>\n",
       "      <td>Alive</td>\n",
       "      <td>Confirmed</td>\n",
       "    </tr>\n",
       "    <tr>\n",
       "      <th>278079</th>\n",
       "      <td>284483</td>\n",
       "      <td>Alao</td>\n",
       "      <td>Paulina</td>\n",
       "      <td>Sade</td>\n",
       "      <td>Female</td>\n",
       "      <td>Kogi</td>\n",
       "      <td>Urban</td>\n",
       "      <td>2013-08-18</td>\n",
       "      <td>2013</td>\n",
       "      <td>7</td>\n",
       "      <td>2013-07-01</td>\n",
       "      <td>Child</td>\n",
       "      <td>Yellow Fever</td>\n",
       "      <td>Null</td>\n",
       "      <td>Alive</td>\n",
       "      <td>Confirmed</td>\n",
       "    </tr>\n",
       "  </tbody>\n",
       "</table>\n",
       "<p>138524 rows × 16 columns</p>\n",
       "</div>"
      ],
      "text/plain": [
       "         index    surname firstname middlename  gender        state  \\\n",
       "0            0     Solade     Grace     Solape  Female       Rivers   \n",
       "1            1     Eneche      Kure    Balogun    Male       Ebonyi   \n",
       "4            4  Abdusalam     Yusuf     Okafor    Male          Oyo   \n",
       "5            5     Yakubu     Janet     Chioma  Female       Kaduna   \n",
       "6            6      Razak    Adaugo     Adaobi  Female       Taraba   \n",
       "...        ...        ...       ...        ...     ...          ...   \n",
       "278074  284478    Adedayo     Judah     Adeoye    Male         Yobe   \n",
       "278075  284479    Mukthar    Alimat    Ajibewa  Female  Cross River   \n",
       "278076  284480    Akenzua   Deborah   Rofeeqat  Female        Kwara   \n",
       "278077  284481        Isa   Deborah    Tofunmi  Female      Katsina   \n",
       "278079  284483       Alao   Paulina       Sade  Female         Kogi   \n",
       "\n",
       "       settlement report_date  report_year  age date_of_birth  \\\n",
       "0           Rural  2018-05-15         2018   32    1986-01-17   \n",
       "1           Rural  2017-02-28         2017   32    1985-01-09   \n",
       "4           Urban  2017-08-28         2017    9    2008-07-01   \n",
       "5           Rural  2012-06-27         2012   44    1968-06-06   \n",
       "6           Rural  2010-01-04         2010   61    1949-07-19   \n",
       "...           ...         ...          ...  ...           ...   \n",
       "278074      Urban  2010-04-11         2010   22    2014-11-26   \n",
       "278075      Rural  2012-08-24         2012   67    1945-10-07   \n",
       "278076      Urban  2009-01-19         2009   64    1945-01-27   \n",
       "278077      Rural  2010-10-06         2010   33    1977-03-10   \n",
       "278079      Urban  2013-08-18         2013    7    2013-07-01   \n",
       "\n",
       "       age_classification        disease serotype health_status report_outcome  \n",
       "0                   Adult        Cholera     Null         Alive      Confirmed  \n",
       "1                   Adult  Marburg Virus     Null         Alive      Confirmed  \n",
       "4                   Child   Rubella Mars     Null         Alive      Confirmed  \n",
       "5                   Adult          Ebola     Null         Alive      Confirmed  \n",
       "6                   Adult   Yellow Fever     Null         Alive      Confirmed  \n",
       "...                   ...            ...      ...           ...            ...  \n",
       "278074              Adult  Marburg Virus     Null         Alive      Confirmed  \n",
       "278075              Adult          Ebola     Null          Dead      Confirmed  \n",
       "278076              Adult          Ebola     Null          Dead      Confirmed  \n",
       "278077              Adult        Malaria     Null         Alive      Confirmed  \n",
       "278079              Child   Yellow Fever     Null         Alive      Confirmed  \n",
       "\n",
       "[138524 rows x 16 columns]"
      ]
     },
     "execution_count": 32,
     "metadata": {},
     "output_type": "execute_result"
    }
   ],
   "source": [
    "df[df['report_outcome'] == 'Confirmed']"
   ]
  },
  {
   "cell_type": "code",
   "execution_count": 33,
   "id": "b248a7c5",
   "metadata": {},
   "outputs": [
    {
     "data": {
      "text/html": [
       "<div>\n",
       "<style scoped>\n",
       "    .dataframe tbody tr th:only-of-type {\n",
       "        vertical-align: middle;\n",
       "    }\n",
       "\n",
       "    .dataframe tbody tr th {\n",
       "        vertical-align: top;\n",
       "    }\n",
       "\n",
       "    .dataframe thead th {\n",
       "        text-align: right;\n",
       "    }\n",
       "</style>\n",
       "<table border=\"1\" class=\"dataframe\">\n",
       "  <thead>\n",
       "    <tr style=\"text-align: right;\">\n",
       "      <th></th>\n",
       "      <th>index</th>\n",
       "      <th>surname</th>\n",
       "      <th>firstname</th>\n",
       "      <th>middlename</th>\n",
       "      <th>gender</th>\n",
       "      <th>state</th>\n",
       "      <th>settlement</th>\n",
       "      <th>report_date</th>\n",
       "      <th>report_year</th>\n",
       "      <th>age</th>\n",
       "      <th>date_of_birth</th>\n",
       "      <th>age_classification</th>\n",
       "      <th>disease</th>\n",
       "      <th>serotype</th>\n",
       "      <th>health_status</th>\n",
       "      <th>report_outcome</th>\n",
       "    </tr>\n",
       "  </thead>\n",
       "  <tbody>\n",
       "    <tr>\n",
       "      <th>2</th>\n",
       "      <td>2</td>\n",
       "      <td>Sanusi</td>\n",
       "      <td>Adaugo</td>\n",
       "      <td>Katerine</td>\n",
       "      <td>Female</td>\n",
       "      <td>Ogun</td>\n",
       "      <td>Urban</td>\n",
       "      <td>2012-02-03</td>\n",
       "      <td>2012</td>\n",
       "      <td>24</td>\n",
       "      <td>1988-01-05</td>\n",
       "      <td>Adult</td>\n",
       "      <td>Marburg Virus</td>\n",
       "      <td>Null</td>\n",
       "      <td>Dead</td>\n",
       "      <td>Not Confirmed</td>\n",
       "    </tr>\n",
       "    <tr>\n",
       "      <th>3</th>\n",
       "      <td>3</td>\n",
       "      <td>Sowore</td>\n",
       "      <td>Mooslemat</td>\n",
       "      <td>Ifedayo</td>\n",
       "      <td>Female</td>\n",
       "      <td>Ondo</td>\n",
       "      <td>Rural</td>\n",
       "      <td>2010-05-21</td>\n",
       "      <td>2010</td>\n",
       "      <td>63</td>\n",
       "      <td>1947-05-24</td>\n",
       "      <td>Adult</td>\n",
       "      <td>Measles</td>\n",
       "      <td>Null</td>\n",
       "      <td>Alive</td>\n",
       "      <td>Not Confirmed</td>\n",
       "    </tr>\n",
       "    <tr>\n",
       "      <th>7</th>\n",
       "      <td>7</td>\n",
       "      <td>Annakyi</td>\n",
       "      <td>Danmbazzu</td>\n",
       "      <td>Osagie</td>\n",
       "      <td>Male</td>\n",
       "      <td>Katsina</td>\n",
       "      <td>Rural</td>\n",
       "      <td>2015-04-10</td>\n",
       "      <td>2015</td>\n",
       "      <td>2</td>\n",
       "      <td>2014-12-18</td>\n",
       "      <td>Child</td>\n",
       "      <td>Diarrhoea</td>\n",
       "      <td>Null</td>\n",
       "      <td>Alive</td>\n",
       "      <td>Not Confirmed</td>\n",
       "    </tr>\n",
       "    <tr>\n",
       "      <th>10</th>\n",
       "      <td>10</td>\n",
       "      <td>Muhammadu</td>\n",
       "      <td>Adijah</td>\n",
       "      <td>Cathrine</td>\n",
       "      <td>Female</td>\n",
       "      <td>Niger</td>\n",
       "      <td>Urban</td>\n",
       "      <td>2015-12-05</td>\n",
       "      <td>2015</td>\n",
       "      <td>17</td>\n",
       "      <td>1998-07-06</td>\n",
       "      <td>Child</td>\n",
       "      <td>Cholera</td>\n",
       "      <td>Null</td>\n",
       "      <td>Alive</td>\n",
       "      <td>Not Confirmed</td>\n",
       "    </tr>\n",
       "    <tr>\n",
       "      <th>11</th>\n",
       "      <td>11</td>\n",
       "      <td>Okerewke</td>\n",
       "      <td>Kure</td>\n",
       "      <td>Osahon</td>\n",
       "      <td>Male</td>\n",
       "      <td>Cross River</td>\n",
       "      <td>Rural</td>\n",
       "      <td>2012-09-28</td>\n",
       "      <td>2012</td>\n",
       "      <td>50</td>\n",
       "      <td>1962-04-02</td>\n",
       "      <td>Adult</td>\n",
       "      <td>Diarrhoea</td>\n",
       "      <td>Null</td>\n",
       "      <td>Alive</td>\n",
       "      <td>Not Confirmed</td>\n",
       "    </tr>\n",
       "    <tr>\n",
       "      <th>...</th>\n",
       "      <td>...</td>\n",
       "      <td>...</td>\n",
       "      <td>...</td>\n",
       "      <td>...</td>\n",
       "      <td>...</td>\n",
       "      <td>...</td>\n",
       "      <td>...</td>\n",
       "      <td>...</td>\n",
       "      <td>...</td>\n",
       "      <td>...</td>\n",
       "      <td>...</td>\n",
       "      <td>...</td>\n",
       "      <td>...</td>\n",
       "      <td>...</td>\n",
       "      <td>...</td>\n",
       "      <td>...</td>\n",
       "    </tr>\n",
       "    <tr>\n",
       "      <th>278068</th>\n",
       "      <td>284472</td>\n",
       "      <td>Adeyemi</td>\n",
       "      <td>Mariam</td>\n",
       "      <td>Funke</td>\n",
       "      <td>Female</td>\n",
       "      <td>Osun</td>\n",
       "      <td>Urban</td>\n",
       "      <td>2009-03-10</td>\n",
       "      <td>2009</td>\n",
       "      <td>43</td>\n",
       "      <td>1966-07-03</td>\n",
       "      <td>Adult</td>\n",
       "      <td>Yellow Fever</td>\n",
       "      <td>Null</td>\n",
       "      <td>Dead</td>\n",
       "      <td>Not Confirmed</td>\n",
       "    </tr>\n",
       "    <tr>\n",
       "      <th>278070</th>\n",
       "      <td>284474</td>\n",
       "      <td>Fidelis</td>\n",
       "      <td>Yusuf</td>\n",
       "      <td>Oni</td>\n",
       "      <td>Male</td>\n",
       "      <td>Oyo</td>\n",
       "      <td>Urban</td>\n",
       "      <td>2009-12-11</td>\n",
       "      <td>2009</td>\n",
       "      <td>1</td>\n",
       "      <td>2013-06-10</td>\n",
       "      <td>Child</td>\n",
       "      <td>Meningitis</td>\n",
       "      <td>Neisseria meningitidis group W (NmW)</td>\n",
       "      <td>Dead</td>\n",
       "      <td>Not Confirmed</td>\n",
       "    </tr>\n",
       "    <tr>\n",
       "      <th>278072</th>\n",
       "      <td>284476</td>\n",
       "      <td>Akintola</td>\n",
       "      <td>Debby</td>\n",
       "      <td>Patricia</td>\n",
       "      <td>Female</td>\n",
       "      <td>Taraba</td>\n",
       "      <td>Rural</td>\n",
       "      <td>2009-02-10</td>\n",
       "      <td>2009</td>\n",
       "      <td>69</td>\n",
       "      <td>1940-03-17</td>\n",
       "      <td>Adult</td>\n",
       "      <td>Diarrhoea</td>\n",
       "      <td>Null</td>\n",
       "      <td>Dead</td>\n",
       "      <td>Not Confirmed</td>\n",
       "    </tr>\n",
       "    <tr>\n",
       "      <th>278073</th>\n",
       "      <td>284477</td>\n",
       "      <td>Gombi</td>\n",
       "      <td>Zainab</td>\n",
       "      <td>Akinremi</td>\n",
       "      <td>Female</td>\n",
       "      <td>Ondo</td>\n",
       "      <td>Urban</td>\n",
       "      <td>2015-05-14</td>\n",
       "      <td>2015</td>\n",
       "      <td>42</td>\n",
       "      <td>1973-04-13</td>\n",
       "      <td>Adult</td>\n",
       "      <td>Viral Haemmorrhaphic Fever</td>\n",
       "      <td>Null</td>\n",
       "      <td>Dead</td>\n",
       "      <td>Not Confirmed</td>\n",
       "    </tr>\n",
       "    <tr>\n",
       "      <th>278078</th>\n",
       "      <td>284482</td>\n",
       "      <td>Uba</td>\n",
       "      <td>Ismail</td>\n",
       "      <td>Akpabio</td>\n",
       "      <td>Male</td>\n",
       "      <td>Jigawa</td>\n",
       "      <td>Rural</td>\n",
       "      <td>2016-11-01</td>\n",
       "      <td>2016</td>\n",
       "      <td>18</td>\n",
       "      <td>1998-07-05</td>\n",
       "      <td>Adult</td>\n",
       "      <td>Malaria</td>\n",
       "      <td>Null</td>\n",
       "      <td>Dead</td>\n",
       "      <td>Not Confirmed</td>\n",
       "    </tr>\n",
       "  </tbody>\n",
       "</table>\n",
       "<p>139556 rows × 16 columns</p>\n",
       "</div>"
      ],
      "text/plain": [
       "         index    surname  firstname middlename  gender        state  \\\n",
       "2            2     Sanusi     Adaugo   Katerine  Female         Ogun   \n",
       "3            3     Sowore  Mooslemat    Ifedayo  Female         Ondo   \n",
       "7            7    Annakyi  Danmbazzu     Osagie    Male      Katsina   \n",
       "10          10  Muhammadu     Adijah   Cathrine  Female        Niger   \n",
       "11          11   Okerewke       Kure     Osahon    Male  Cross River   \n",
       "...        ...        ...        ...        ...     ...          ...   \n",
       "278068  284472    Adeyemi     Mariam      Funke  Female         Osun   \n",
       "278070  284474    Fidelis      Yusuf        Oni    Male          Oyo   \n",
       "278072  284476   Akintola      Debby   Patricia  Female       Taraba   \n",
       "278073  284477      Gombi     Zainab   Akinremi  Female         Ondo   \n",
       "278078  284482        Uba     Ismail    Akpabio    Male       Jigawa   \n",
       "\n",
       "       settlement report_date  report_year  age date_of_birth  \\\n",
       "2           Urban  2012-02-03         2012   24    1988-01-05   \n",
       "3           Rural  2010-05-21         2010   63    1947-05-24   \n",
       "7           Rural  2015-04-10         2015    2    2014-12-18   \n",
       "10          Urban  2015-12-05         2015   17    1998-07-06   \n",
       "11          Rural  2012-09-28         2012   50    1962-04-02   \n",
       "...           ...         ...          ...  ...           ...   \n",
       "278068      Urban  2009-03-10         2009   43    1966-07-03   \n",
       "278070      Urban  2009-12-11         2009    1    2013-06-10   \n",
       "278072      Rural  2009-02-10         2009   69    1940-03-17   \n",
       "278073      Urban  2015-05-14         2015   42    1973-04-13   \n",
       "278078      Rural  2016-11-01         2016   18    1998-07-05   \n",
       "\n",
       "       age_classification                     disease  \\\n",
       "2                   Adult               Marburg Virus   \n",
       "3                   Adult                     Measles   \n",
       "7                   Child                   Diarrhoea   \n",
       "10                  Child                     Cholera   \n",
       "11                  Adult                   Diarrhoea   \n",
       "...                   ...                         ...   \n",
       "278068              Adult                Yellow Fever   \n",
       "278070              Child                  Meningitis   \n",
       "278072              Adult                   Diarrhoea   \n",
       "278073              Adult  Viral Haemmorrhaphic Fever   \n",
       "278078              Adult                     Malaria   \n",
       "\n",
       "                                    serotype health_status report_outcome  \n",
       "2                                       Null          Dead  Not Confirmed  \n",
       "3                                       Null         Alive  Not Confirmed  \n",
       "7                                       Null         Alive  Not Confirmed  \n",
       "10                                      Null         Alive  Not Confirmed  \n",
       "11                                      Null         Alive  Not Confirmed  \n",
       "...                                      ...           ...            ...  \n",
       "278068                                  Null          Dead  Not Confirmed  \n",
       "278070  Neisseria meningitidis group W (NmW)          Dead  Not Confirmed  \n",
       "278072                                  Null          Dead  Not Confirmed  \n",
       "278073                                  Null          Dead  Not Confirmed  \n",
       "278078                                  Null          Dead  Not Confirmed  \n",
       "\n",
       "[139556 rows x 16 columns]"
      ]
     },
     "execution_count": 33,
     "metadata": {},
     "output_type": "execute_result"
    }
   ],
   "source": [
    "df[df['report_outcome'] == 'Not Confirmed']"
   ]
  },
  {
   "cell_type": "markdown",
   "id": "4c02fc04",
   "metadata": {},
   "source": [
    "### Let's get a percentage to confirmed and unconfirmed reports"
   ]
  },
  {
   "cell_type": "code",
   "execution_count": 34,
   "id": "9ee463d0",
   "metadata": {},
   "outputs": [
    {
     "data": {
      "text/plain": [
       "index                 49.81\n",
       "surname               49.81\n",
       "firstname             49.81\n",
       "middlename            49.81\n",
       "gender                49.81\n",
       "state                 49.81\n",
       "settlement            49.81\n",
       "report_date           49.81\n",
       "report_year           49.81\n",
       "age                   49.81\n",
       "date_of_birth         49.81\n",
       "age_classification    49.81\n",
       "disease               49.81\n",
       "serotype              49.81\n",
       "health_status         49.81\n",
       "report_outcome        49.81\n",
       "dtype: float64"
      ]
     },
     "execution_count": 34,
     "metadata": {},
     "output_type": "execute_result"
    }
   ],
   "source": [
    "round( (df[df['report_outcome'] == 'Confirmed'].count() / df.count()) * 100 ,2)"
   ]
  },
  {
   "cell_type": "code",
   "execution_count": 35,
   "id": "297e7a14",
   "metadata": {},
   "outputs": [
    {
     "data": {
      "text/plain": [
       "index                 50.19\n",
       "surname               50.19\n",
       "firstname             50.19\n",
       "middlename            50.19\n",
       "gender                50.19\n",
       "state                 50.19\n",
       "settlement            50.19\n",
       "report_date           50.19\n",
       "report_year           50.19\n",
       "age                   50.19\n",
       "date_of_birth         50.19\n",
       "age_classification    50.19\n",
       "disease               50.19\n",
       "serotype              50.19\n",
       "health_status         50.19\n",
       "report_outcome        50.19\n",
       "dtype: float64"
      ]
     },
     "execution_count": 35,
     "metadata": {},
     "output_type": "execute_result"
    }
   ],
   "source": [
    "round( (df[df['report_outcome'] == 'Not Confirmed'].count() / df.count()) * 100 ,2)"
   ]
  },
  {
   "cell_type": "markdown",
   "id": "86d0ded4",
   "metadata": {},
   "source": [
    "#### As we can see, there are more uncomfirmed reports than confirmed ones, as given by 50.19% to 49.81%, a slight but significant difference"
   ]
  },
  {
   "cell_type": "markdown",
   "id": "fdb32892",
   "metadata": {},
   "source": [
    "### Let us check the start date and end date of this dataset using the report date field"
   ]
  },
  {
   "cell_type": "code",
   "execution_count": 36,
   "id": "d7aa1690",
   "metadata": {},
   "outputs": [
    {
     "data": {
      "text/plain": [
       "Timestamp('2009-01-01 00:00:00')"
      ]
     },
     "execution_count": 36,
     "metadata": {},
     "output_type": "execute_result"
    }
   ],
   "source": [
    "df['report_date'].min()"
   ]
  },
  {
   "cell_type": "code",
   "execution_count": 37,
   "id": "04e4cd9e",
   "metadata": {},
   "outputs": [
    {
     "data": {
      "text/plain": [
       "Timestamp('2018-12-31 00:00:00')"
      ]
     },
     "execution_count": 37,
     "metadata": {},
     "output_type": "execute_result"
    }
   ],
   "source": [
    "df['report_date'].max()"
   ]
  },
  {
   "cell_type": "markdown",
   "id": "bc23ec23",
   "metadata": {},
   "source": [
    "#### As we can see, there data was collected for 9 years, from 01-Jan-2009 to 31-Dec-2018, this also serves as the oldest and latest records in the dataset"
   ]
  },
  {
   "cell_type": "markdown",
   "id": "ed0b8a2a",
   "metadata": {},
   "source": [
    "### Let us check what year had the most number of cases"
   ]
  },
  {
   "cell_type": "code",
   "execution_count": 38,
   "id": "cc371e22",
   "metadata": {},
   "outputs": [
    {
     "data": {
      "text/plain": [
       "report_year\n",
       "2013    28089\n",
       "2016    28025\n",
       "2010    27919\n",
       "2017    27902\n",
       "2018    27831\n",
       "2012    27809\n",
       "2014    27742\n",
       "2009    27665\n",
       "2015    27581\n",
       "2011    27517\n",
       "dtype: int64"
      ]
     },
     "execution_count": 38,
     "metadata": {},
     "output_type": "execute_result"
    }
   ],
   "source": [
    "grouped_by_year = df.groupby('report_year').size().sort_values(ascending=False)\n",
    "grouped_by_year"
   ]
  },
  {
   "cell_type": "markdown",
   "id": "e6e5159a",
   "metadata": {},
   "source": [
    "#### As we can see, the year 2013, had the most number of cases."
   ]
  },
  {
   "cell_type": "markdown",
   "id": "81807c1d",
   "metadata": {},
   "source": [
    "### Now, let's see the most prevalent diesease in the country"
   ]
  },
  {
   "cell_type": "code",
   "execution_count": 39,
   "id": "77763626",
   "metadata": {},
   "outputs": [
    {
     "data": {
      "text/plain": [
       "disease\n",
       "Cholera                       27935\n",
       "Rubella Mars                  27875\n",
       "Malaria                       27873\n",
       "Diarrhoea                     27872\n",
       "Measles                       27831\n",
       "Marburg Virus                 27826\n",
       "Yellow Fever                  27806\n",
       "Viral Haemmorrhaphic Fever    27777\n",
       "Meningitis                    27730\n",
       "Ebola                         27555\n",
       "dtype: int64"
      ]
     },
     "execution_count": 39,
     "metadata": {},
     "output_type": "execute_result"
    }
   ],
   "source": [
    "grouped_by_disease = df.groupby('disease').size().sort_values(ascending=False)\n",
    "grouped_by_disease"
   ]
  },
  {
   "cell_type": "markdown",
   "id": "01f537ae",
   "metadata": {},
   "source": [
    "#### Cholera is the most prevalent disease followed by Rubella Mars"
   ]
  },
  {
   "cell_type": "markdown",
   "id": "0d90d3aa",
   "metadata": {},
   "source": [
    "### Let's dive deep into the various diseases that were rambant in 2013, as it had the highest number of records from this dataset, we'd also check report was confirmed or not"
   ]
  },
  {
   "cell_type": "code",
   "execution_count": 40,
   "id": "51da9e69",
   "metadata": {},
   "outputs": [
    {
     "data": {
      "text/plain": [
       "disease                     report_outcome\n",
       "Cholera                     Not Confirmed     1445\n",
       "Malaria                     Confirmed         1442\n",
       "Viral Haemmorrhaphic Fever  Not Confirmed     1433\n",
       "Diarrhoea                   Not Confirmed     1432\n",
       "Ebola                       Confirmed         1432\n",
       "Measles                     Not Confirmed     1430\n",
       "Cholera                     Confirmed         1425\n",
       "Rubella Mars                Not Confirmed     1425\n",
       "Meningitis                  Not Confirmed     1417\n",
       "                            Confirmed         1413\n",
       "Yellow Fever                Confirmed         1404\n",
       "Marburg Virus               Not Confirmed     1403\n",
       "Malaria                     Not Confirmed     1392\n",
       "Diarrhoea                   Confirmed         1388\n",
       "Measles                     Confirmed         1384\n",
       "Ebola                       Not Confirmed     1377\n",
       "Marburg Virus               Confirmed         1375\n",
       "Viral Haemmorrhaphic Fever  Confirmed         1374\n",
       "Rubella Mars                Confirmed         1370\n",
       "Yellow Fever                Not Confirmed     1328\n",
       "dtype: int64"
      ]
     },
     "execution_count": 40,
     "metadata": {},
     "output_type": "execute_result"
    }
   ],
   "source": [
    "df[df['report_year']== 2013].groupby(['disease','report_outcome']).size().sort_values(ascending=False)"
   ]
  },
  {
   "cell_type": "markdown",
   "id": "cd1a7021",
   "metadata": {},
   "source": [
    "#### From the above outcome, we can see that uncomfirmed cholera cases, tops the chart of diseases reported in 2013"
   ]
  },
  {
   "cell_type": "markdown",
   "id": "2a683133",
   "metadata": {},
   "source": [
    "### Let's get what disease caused the most casualty"
   ]
  },
  {
   "cell_type": "code",
   "execution_count": 41,
   "id": "957011eb",
   "metadata": {},
   "outputs": [
    {
     "data": {
      "text/plain": [
       "disease                     report_year\n",
       "Ebola                       2014           1485\n",
       "Malaria                     2017           1467\n",
       "Diarrhoea                   2013           1461\n",
       "Cholera                     2012           1458\n",
       "                            2016           1442\n",
       "                                           ... \n",
       "                            2010           1336\n",
       "Ebola                       2009           1329\n",
       "Cholera                     2014           1323\n",
       "Viral Haemmorrhaphic Fever  2018           1315\n",
       "Malaria                     2012           1312\n",
       "Length: 100, dtype: int64"
      ]
     },
     "execution_count": 41,
     "metadata": {},
     "output_type": "execute_result"
    }
   ],
   "source": [
    "df[df['health_status'] == 'Dead'].groupby(['disease','report_year']).size().sort_values(ascending=False)"
   ]
  },
  {
   "cell_type": "markdown",
   "id": "fe2659cd",
   "metadata": {},
   "source": [
    "#### Ebola in the year 2014 had the most casulties, as a result of the Ebola outbreak, with Malaria causing the least deaths in 2012"
   ]
  },
  {
   "cell_type": "markdown",
   "id": "8dd3ba5a",
   "metadata": {},
   "source": [
    "### Mortality rate per diseases"
   ]
  },
  {
   "cell_type": "code",
   "execution_count": 42,
   "id": "b47b7778",
   "metadata": {},
   "outputs": [
    {
     "data": {
      "text/plain": [
       "disease\n",
       "Ebola                         50.32\n",
       "Diarrhoea                     50.29\n",
       "Cholera                       50.15\n",
       "Viral Haemmorrhaphic Fever    50.08\n",
       "Marburg Virus                 50.01\n",
       "Meningitis                    50.00\n",
       "Rubella Mars                  49.97\n",
       "Yellow Fever                  49.97\n",
       "Measles                       49.90\n",
       "Malaria                       49.63\n",
       "dtype: float64"
      ]
     },
     "execution_count": 42,
     "metadata": {},
     "output_type": "execute_result"
    }
   ],
   "source": [
    "round( ((df[df['health_status'] == 'Dead'].groupby('disease').size()/df.groupby('disease').size()) *100) ,2).sort_values(ascending=False)"
   ]
  },
  {
   "cell_type": "code",
   "execution_count": 43,
   "id": "de255016",
   "metadata": {},
   "outputs": [
    {
     "data": {
      "text/plain": [
       "50.03"
      ]
     },
     "execution_count": 43,
     "metadata": {},
     "output_type": "execute_result"
    }
   ],
   "source": [
    "round(((df[df['health_status'] == 'Dead']['disease'].count() / df['disease'].count()) *100),2)"
   ]
  },
  {
   "cell_type": "markdown",
   "id": "3690ca16",
   "metadata": {},
   "source": [
    "#### As we can see, Ebola has the highest mortality rate of 50.32%, with Malaria having the lowest mortality rate of 49.63%, but in general all the diseases have a quite high mortality rate, with an average mortality rate of 50.03%."
   ]
  },
  {
   "cell_type": "markdown",
   "id": "bb598d36",
   "metadata": {},
   "source": [
    "### Mortality Rate per year per state"
   ]
  },
  {
   "cell_type": "code",
   "execution_count": 44,
   "id": "693e02eb",
   "metadata": {},
   "outputs": [
    {
     "data": {
      "text/plain": [
       "report_year  state                    \n",
       "2010         Federal Capital Territory    434\n",
       "2009         Taraba                       433\n",
       "2013         Bayelsa                      429\n",
       "             Ekiti                        424\n",
       "2009         Ondo                         424\n",
       "                                         ... \n",
       "2016         Akwa Ibom                    334\n",
       "2009         Ekiti                        334\n",
       "2014         Plateau                      333\n",
       "2018         Edo                          330\n",
       "2015         Ekiti                        329\n",
       "Length: 370, dtype: int64"
      ]
     },
     "execution_count": 44,
     "metadata": {},
     "output_type": "execute_result"
    }
   ],
   "source": [
    "df[df['health_status'] == 'Dead'].groupby(['report_year','state']).size().sort_values(ascending=False)"
   ]
  },
  {
   "cell_type": "markdown",
   "id": "fb19aa0a",
   "metadata": {},
   "source": [
    "#### From the above output, it is now known that the FCT in the year 2010, recorded the highest number of deathe, with Ekiti in 2015, recording the lowest number of deaths"
   ]
  },
  {
   "cell_type": "markdown",
   "id": "e9628ce3",
   "metadata": {},
   "source": [
    "### Number of cases categorized by state"
   ]
  },
  {
   "cell_type": "code",
   "execution_count": 45,
   "id": "636624d8",
   "metadata": {},
   "outputs": [
    {
     "data": {
      "text/plain": [
       "state    disease      \n",
       "Abia     Marburg Virus    831\n",
       "Benue    Meningitis       829\n",
       "Kwara    Measles          827\n",
       "Kano     Malaria          818\n",
       "Borno    Yellow Fever     815\n",
       "                         ... \n",
       "Bayelsa  Yellow Fever     693\n",
       "Ekiti    Cholera          687\n",
       "Ogun     Rubella Mars     684\n",
       "Kogi     Measles          683\n",
       "Kwara    Meningitis       680\n",
       "Length: 370, dtype: int64"
      ]
     },
     "execution_count": 45,
     "metadata": {},
     "output_type": "execute_result"
    }
   ],
   "source": [
    "df.groupby(['state','disease']).size().sort_values(ascending=False)"
   ]
  },
  {
   "cell_type": "code",
   "execution_count": 46,
   "id": "d1c2cd1c",
   "metadata": {},
   "outputs": [
    {
     "data": {
      "text/plain": [
       "state     report_year\n",
       "Niger     2013           837\n",
       "Rivers    2012           835\n",
       "Niger     2017           824\n",
       "Sokoto    2009           811\n",
       "Ondo      2018           807\n",
       "                        ... \n",
       "Plateau   2011           697\n",
       "Nasarawa  2015           693\n",
       "Plateau   2014           683\n",
       "Rivers    2013           678\n",
       "Sokoto    2015           672\n",
       "Length: 370, dtype: int64"
      ]
     },
     "execution_count": 46,
     "metadata": {},
     "output_type": "execute_result"
    }
   ],
   "source": [
    "df.groupby(['state','report_year']).size().sort_values(ascending=False)"
   ]
  },
  {
   "cell_type": "code",
   "execution_count": 47,
   "id": "6a9e3123",
   "metadata": {},
   "outputs": [
    {
     "data": {
      "text/plain": [
       "state\n",
       "Niger                        7676\n",
       "Ondo                         7674\n",
       "Kano                         7663\n",
       "Bayelsa                      7612\n",
       "Kebbi                        7601\n",
       "Imo                          7601\n",
       "Benue                        7593\n",
       "Ebonyi                       7590\n",
       "Yobe                         7584\n",
       "Kwara                        7555\n",
       "Nasarawa                     7553\n",
       "Osun                         7550\n",
       "Kaduna                       7539\n",
       "Jigawa                       7537\n",
       "Anambra                      7536\n",
       "Enugu                        7534\n",
       "Oyo                          7529\n",
       "Abia                         7522\n",
       "Sokoto                       7512\n",
       "Delta                        7506\n",
       "Adamawa                      7502\n",
       "Federal Capital Territory    7502\n",
       "Gombe                        7497\n",
       "Kogi                         7495\n",
       "Rivers                       7486\n",
       "Lagos                        7482\n",
       "Bauchi                       7482\n",
       "Zamfara                      7463\n",
       "Ogun                         7452\n",
       "Edo                          7448\n",
       "Akwa Ibom                    7445\n",
       "Katsina                      7426\n",
       "Taraba                       7407\n",
       "Ekiti                        7406\n",
       "Plateau                      7384\n",
       "Borno                        7383\n",
       "Cross River                  7353\n",
       "dtype: int64"
      ]
     },
     "execution_count": 47,
     "metadata": {},
     "output_type": "execute_result"
    }
   ],
   "source": [
    "df.groupby('state').size().sort_values(ascending=False)"
   ]
  },
  {
   "cell_type": "markdown",
   "id": "5f46849b",
   "metadata": {},
   "source": [
    "#### From the above outputs, we can see that Niger State had the highest number of records in general, also in 2013, the same state recorded the highest number of records, with Cross River recording the lowest number of overall record, with Sokoto State recording the least record in a calendar year, 2015, Abia State recorded the most cases from a disease: Marburg Virus, and Kwara State recording the least records for a particular disease: Meningitis. "
   ]
  }
 ],
 "metadata": {
  "kernelspec": {
   "display_name": "Python 3 (ipykernel)",
   "language": "python",
   "name": "python3"
  },
  "language_info": {
   "codemirror_mode": {
    "name": "ipython",
    "version": 3
   },
   "file_extension": ".py",
   "mimetype": "text/x-python",
   "name": "python",
   "nbconvert_exporter": "python",
   "pygments_lexer": "ipython3",
   "version": "3.9.7"
  }
 },
 "nbformat": 4,
 "nbformat_minor": 5
}
